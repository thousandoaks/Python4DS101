{
  "cells": [
    {
      "cell_type": "markdown",
      "metadata": {
        "nbpages": {
          "level": 1,
          "link": "[1.2 Python Basics](https://jckantor.github.io/CBE30338/01.02-Python-Basics.html#1.2-Python-Basics)",
          "section": "1.2 Python Basics"
        },
        "id": "nB20MeuOYonN"
      },
      "source": [
        "# Python Basics (Lab2)\n",
        "\n"
      ]
    },
    {
      "cell_type": "markdown",
      "metadata": {
        "nbpages": {
          "level": 2,
          "link": "[1.2.1 What I hope you'll get out of this tutorial](https://jckantor.github.io/CBE30338/01.02-Python-Basics.html#1.2.1-What-I-hope-you'll-get-out-of-this-tutorial)",
          "section": "1.2.1 What I hope you'll get out of this tutorial"
        },
        "id": "li0QS0FrYonN"
      },
      "source": [
        "##  What I hope you'll get out of this lab\n",
        "* The feeling that you'll \"know where to start\" when you see python code in lecture, or when you need to write python for an assignment.\n",
        "* (You won't be a python expert after one hour)\n",
        "* Basics to variables, lists, conditionals, functions, loops, and the numpy package.\n",
        "* Resources to look further"
      ]
    },
    {
      "cell_type": "markdown",
      "metadata": {
        "nbpages": {
          "level": 3,
          "link": "[1.2.1.1 Why Python?](https://jckantor.github.io/CBE30338/01.02-Python-Basics.html#1.2.1.1-Why-Python?)",
          "section": "1.2.1.1 Why Python?"
        },
        "id": "Ze0B6ddSYonN"
      },
      "source": [
        "### Why Python?\n",
        "\n",
        "1. Clean syntax\n",
        "2. The same code can run on all Operating Systems\n",
        "3. **Extensive first and third party libraries (of particular note for our purposes is NumPy and Pandas)**"
      ]
    },
    {
      "cell_type": "markdown",
      "metadata": {
        "nbpages": {
          "level": 3,
          "link": "[1.2.1.2 Markdown Sidenote](https://jckantor.github.io/CBE30338/01.02-Python-Basics.html#1.2.1.2-Markdown-Sidenote)",
          "section": "1.2.1.2 Markdown Sidenote"
        },
        "id": "QpH51ThPYonO"
      },
      "source": [
        "### Markdown Sidenote\n",
        " * This text is written in a Markdown block. Markdown is straightforward way to format writeups in Jupyter, but I won't cover it here for the sake of brevity. \n",
        " * See if you can use Markdown in your next homework, here's a link that explains the formatting: https://daringfireball.net/projects/markdown/syntax . \n",
        " * You can also look at existing Markdown examples (i.e. this worksheet) and emulate the style. Double click a Markdown box in Jupyter to show the code.\n",
        " "
      ]
    },
    {
      "cell_type": "markdown",
      "source": [
        "---\n",
        "## Feel free to change the code and have it executed to see the results\n",
        "\n",
        "---"
      ],
      "metadata": {
        "id": "0MbYpWVxo5bD"
      }
    },
    {
      "cell_type": "markdown",
      "metadata": {
        "nbpages": {
          "level": 2,
          "link": "[1.2.2 Python Basics](https://jckantor.github.io/CBE30338/01.02-Python-Basics.html#1.2.2-Python-Basics)",
          "section": "1.2.2 Python Basics"
        },
        "id": "a827wOq5YonP"
      },
      "source": [
        "## Python Basics"
      ]
    },
    {
      "cell_type": "markdown",
      "source": [
        "### Comments\n",
        "#### Comments are very important in your programs. They are used to tell you what something does in English, and they are used to disable parts of your program if you need to remove them temporarily. Here's how you use comments in Python:"
      ],
      "metadata": {
        "id": "5p8SEGBpCqcG"
      }
    },
    {
      "cell_type": "code",
      "source": [
        "# A comment, this is so you can read your program later.\n",
        "# Anything after the # is ignored by python.\n",
        "\n",
        "print(\"I could have code like this.\") # and the comment after is ignored\n",
        "\n",
        "# You can also use a comment to \"disable\" or comment out a piece of code:\n",
        "# print \"This won't run.\"\n",
        "\n",
        "print(\"This will run.\")"
      ],
      "metadata": {
        "colab": {
          "base_uri": "https://localhost:8080/"
        },
        "id": "xAyCLI4-HnrG",
        "outputId": "bc11d9db-5b01-4e22-f6f6-d4225376bf67"
      },
      "execution_count": 2,
      "outputs": [
        {
          "output_type": "stream",
          "name": "stdout",
          "text": [
            "I could have code like this.\n",
            "This will run.\n"
          ]
        }
      ]
    },
    {
      "cell_type": "markdown",
      "metadata": {
        "nbpages": {
          "level": 3,
          "link": "[1.2.2.1 Variables](https://jckantor.github.io/CBE30338/01.02-Python-Basics.html#1.2.2.1-Variables)",
          "section": "1.2.2.1 Variables"
        },
        "id": "xu4whIdCYonP"
      },
      "source": [
        "###  Numbers and Math\n",
        "\n",
        "#### Every programming language has some kind of way of doing numbers and math.\n",
        "\n",
        "\n",
        "#### This exercise has lots of math symbols. Let's name them right away so you know what they are called. As you type this one in, say the name. When saying them feels boring you can stop saying them. Here are the names:\n",
        "\n",
        "####+ plus\n",
        "####- minus\n",
        "####/ slash\n",
        "####* asterisk\n",
        "####% percent\n",
        "####< less-than\n",
        "####> greater-than\n",
        "####<= less-than-equal\n",
        "####>= greater-than-equal"
      ]
    },
    {
      "cell_type": "code",
      "source": [
        "print(\"I will now count my chickens:\")\n",
        "\n",
        "print(\"Hens:\", 25 + 30 / 6)\n",
        "print(\"Roosters:\", 100 - 25 * 3 % 4)\n",
        "\n",
        "\n",
        "print (\"Now I will count the eggs:\")\n",
        "\n",
        "3 + 2 + 1 - 5 + 4 % 2 - 1 / 4 + 6\n"
      ],
      "metadata": {
        "colab": {
          "base_uri": "https://localhost:8080/"
        },
        "id": "pqa5ZAeRIu7Q",
        "outputId": "b5cacd7f-c7af-440e-dbfd-e556de3fe915"
      },
      "execution_count": 9,
      "outputs": [
        {
          "output_type": "stream",
          "name": "stdout",
          "text": [
            "I will now count my chickens:\n",
            "Hens: 30.0\n",
            "Roosters: 97\n",
            "Now I will count the eggs:\n"
          ]
        },
        {
          "output_type": "execute_result",
          "data": {
            "text/plain": [
              "6.75"
            ]
          },
          "metadata": {},
          "execution_count": 9
        }
      ]
    },
    {
      "cell_type": "code",
      "source": [
        "print(\"Is it true that 3 + 2 < 5 - 7?\")\n",
        "\n",
        "print(3 + 2 < 5 - 7)\n",
        "\n",
        "print(\"What is 3 + 2?\", 3 + 2)\n",
        "print(\"What is 5 - 7?\", 5 - 7)\n",
        "\n",
        "print(\"Oh, that's why it's False.\")"
      ],
      "metadata": {
        "colab": {
          "base_uri": "https://localhost:8080/"
        },
        "id": "7mqkDM5EIuxn",
        "outputId": "92a7a51f-64f7-49a0-d212-e8b53801110f"
      },
      "execution_count": 10,
      "outputs": [
        {
          "output_type": "stream",
          "name": "stdout",
          "text": [
            "Is it true that 3 + 2 < 5 - 7?\n",
            "False\n",
            "What is 3 + 2? 5\n",
            "What is 5 - 7? -2\n",
            "Oh, that's why it's False.\n"
          ]
        }
      ]
    },
    {
      "cell_type": "code",
      "source": [
        "print(\"How about some more.\")\n",
        "\n",
        "print(\"Is it greater?\", 5 > -2)\n",
        "print(\"Is it greater or equal?\", 5 >= -2)\n",
        "print(\"Is it less or equal?\", 5 <= -2)"
      ],
      "metadata": {
        "colab": {
          "base_uri": "https://localhost:8080/"
        },
        "id": "T-ktAXPqKSIv",
        "outputId": "33bd30bd-9064-4683-c27c-f98bb9954335"
      },
      "execution_count": 11,
      "outputs": [
        {
          "output_type": "stream",
          "name": "stdout",
          "text": [
            "How about some more.\n",
            "Is it greater? True\n",
            "Is it greater or equal? True\n",
            "Is it less or equal? False\n"
          ]
        }
      ]
    },
    {
      "cell_type": "code",
      "source": [],
      "metadata": {
        "id": "TC4X_-UrKWJf"
      },
      "execution_count": null,
      "outputs": []
    },
    {
      "cell_type": "markdown",
      "source": [
        "### Variables And Names\n",
        "\n",
        "#### Now you can print things with print and you can do math. The next step is to learn about variables. In programming a variable is nothing more than a name for something, similar to how my name \"David\" is a name for, \"The human who wrote this lab.\" Programmers use these variable names to make their code read more like English, and because they have lousy memories. If they didn't use good names for things in their software, they'd get lost when they tried to read their code again."
      ],
      "metadata": {
        "id": "Co5vg3R2KdVI"
      }
    },
    {
      "cell_type": "code",
      "source": [
        "cars = 100\n",
        "space_in_a_car = 4.0\n",
        "drivers = 30\n",
        "passengers = 90\n",
        "cars_not_driven = cars - drivers\n",
        "cars_driven = drivers\n",
        "carpool_capacity = cars_driven * space_in_a_car\n",
        "average_passengers_per_car = passengers / cars_driven\n",
        "\n",
        "\n"
      ],
      "metadata": {
        "id": "cA1U64DIKWG4"
      },
      "execution_count": 12,
      "outputs": []
    },
    {
      "cell_type": "code",
      "source": [
        "print(\"There are\", cars, \"cars available.\")\n",
        "print(\"There are only\", drivers, \"drivers available.\")\n",
        "print(\"There will be\", cars_not_driven, \"empty cars today.\")\n",
        "print(\"We can transport\", carpool_capacity, \"people today.\")\n",
        "print(\"We have\", passengers, \"to carpool today.\")\n",
        "print(\"We need to put about\", average_passengers_per_car, \"in each car.\")"
      ],
      "metadata": {
        "colab": {
          "base_uri": "https://localhost:8080/"
        },
        "id": "kUgzJ5vKKWE1",
        "outputId": "d79381ff-0fb3-4344-95e2-c42ce19111b2"
      },
      "execution_count": 13,
      "outputs": [
        {
          "output_type": "stream",
          "name": "stdout",
          "text": [
            "There are 100 cars available.\n",
            "There are only 30 drivers available.\n",
            "There will be 70 empty cars today.\n",
            "We can transport 120.0 people today.\n",
            "We have 90 to carpool today.\n",
            "We need to put about 3.0 in each car.\n"
          ]
        }
      ]
    },
    {
      "cell_type": "markdown",
      "source": [
        "### More variables And Names\n",
        "\n",
        "#### Now we'll do even more typing of variables and printing them out. This time we'll use something called a \"format string.\" Every time you put \" (double-quotes) around a piece of text you have been making a string. A string is how you make something that your program might give to a human. You print strings, save strings to files, send strings to web servers, and many other things.\n",
        "\n",
        "#### Strings are really handy, so in this exercise you will learn how to make strings that have variables embedded in them. You embed variables inside a string by using specialized format sequences and then putting the variables at the end with a special syntax that tells Python, \"Hey, this is a format string. Put these variables in there.\""
      ],
      "metadata": {
        "id": "_kVWobfSLoGD"
      }
    },
    {
      "cell_type": "code",
      "source": [
        "my_name = 'Zed A. Shaw'\n",
        "my_age = 35 # not a lie\n",
        "my_height = 74 # inches\n",
        "my_weight = 180 # lbs\n",
        "my_eyes = 'Blue'\n",
        "my_teeth = 'White'\n",
        "my_hair = 'Brown'"
      ],
      "metadata": {
        "id": "E5h8vF7tKWCM"
      },
      "execution_count": 15,
      "outputs": []
    },
    {
      "cell_type": "code",
      "source": [
        "print(\"Let's talk about\",my_name)\n",
        "\n",
        "\n",
        "print(\"He's %d inches tall.\",my_height)\n",
        "print(\"He's %d pounds heavy.\",my_weight)\n",
        "print(\"Actually that's not too heavy.\")\n",
        "print(\"He's got %s eyes and %s hair.\",(my_eyes, my_hair))\n",
        "print(\"His teeth are usually %s depending on the coffee.\", my_teeth)\n",
        "\n"
      ],
      "metadata": {
        "colab": {
          "base_uri": "https://localhost:8080/"
        },
        "id": "J-zKGZP3KWAc",
        "outputId": "c364a764-6e48-4a76-da0a-6402cbaec04c"
      },
      "execution_count": 22,
      "outputs": [
        {
          "output_type": "stream",
          "name": "stdout",
          "text": [
            "Let's talk about Zed A. Shaw\n",
            "He's %d inches tall. 74\n",
            "He's %d pounds heavy. 180\n",
            "Actually that's not too heavy.\n",
            "He's got %s eyes and %s hair. ('Blue', 'Brown')\n",
            "His teeth are usually %s depending on the coffee. White\n"
          ]
        }
      ]
    },
    {
      "cell_type": "code",
      "source": [],
      "metadata": {
        "id": "ecEdCCJkKV9x"
      },
      "execution_count": null,
      "outputs": []
    },
    {
      "cell_type": "code",
      "source": [],
      "metadata": {
        "id": "ff27S1nuNYBY"
      },
      "execution_count": null,
      "outputs": []
    },
    {
      "cell_type": "code",
      "source": [],
      "metadata": {
        "id": "hyDSqt7NNX-j"
      },
      "execution_count": null,
      "outputs": []
    },
    {
      "cell_type": "markdown",
      "metadata": {
        "nbpages": {
          "level": 2,
          "link": "[1.2.3 Additional Resources](https://jckantor.github.io/CBE30338/01.02-Python-Basics.html#1.2.3-Additional-Resources)",
          "section": "1.2.3 Additional Resources"
        },
        "id": "iZgMrcrWYonU"
      },
      "source": [
        "## Additional Resources\n",
        "* If you still feel lost: [Code Academy](https://www.codecademy.com/learn/python)\n",
        "\n",
        "* If you want a good reference site: [Official Python Reference](https://docs.python.org/2/reference/)\n",
        "\n",
        "* If you want to learn python robustly: [Learn Python the Hard Way](https://learnpythonthehardway.org/book/)\n",
        "\n",
        "\n"
      ]
    },
    {
      "cell_type": "code",
      "source": [],
      "metadata": {
        "id": "ZYpQ5KCylL_u"
      },
      "execution_count": null,
      "outputs": []
    }
  ],
  "metadata": {
    "anaconda-cloud": {},
    "kernelspec": {
      "display_name": "Python 3",
      "language": "python",
      "name": "python3"
    },
    "language_info": {
      "codemirror_mode": {
        "name": "ipython",
        "version": 3
      },
      "file_extension": ".py",
      "mimetype": "text/x-python",
      "name": "python",
      "nbconvert_exporter": "python",
      "pygments_lexer": "ipython3",
      "version": "3.7.3"
    },
    "colab": {
      "provenance": []
    }
  },
  "nbformat": 4,
  "nbformat_minor": 0
}