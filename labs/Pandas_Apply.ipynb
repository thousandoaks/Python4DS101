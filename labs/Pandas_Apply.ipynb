{
  "metadata": {
    "orig_nbformat": 4,
    "kernelspec": {
      "name": "python3",
      "display_name": "Python 3 (ipykernel)",
      "language": "python"
    },
    "language_info": {
      "name": "python",
      "version": "3.7.12",
      "mimetype": "text/x-python",
      "codemirror_mode": {
        "name": "ipython",
        "version": 3
      },
      "pygments_lexer": "ipython3",
      "nbconvert_exporter": "python",
      "file_extension": ".py"
    },
    "colab": {
      "name": "Pandas-Apply.ipynb",
      "provenance": [],
      "include_colab_link": true
    }
  },
  "nbformat_minor": 0,
  "nbformat": 4,
  "cells": [
    {
      "cell_type": "markdown",
      "metadata": {
        "id": "view-in-github",
        "colab_type": "text"
      },
      "source": [
        "<a href=\"https://colab.research.google.com/github/thousandoaks/Python4DS101/blob/master/labs/Pandas_Apply.ipynb\" target=\"_parent\"><img src=\"https://colab.research.google.com/assets/colab-badge.svg\" alt=\"Open In Colab\"/></a>"
      ]
    },
    {
      "cell_type": "markdown",
      "source": [
        "#Applying Functions in Pandas"
      ],
      "metadata": {
        "id": "HZ8RPYb5-bZG"
      }
    },
    {
      "cell_type": "markdown",
      "source": [
        "#### So far we have made use of Python funcionality as well as external libraries to fetch, transform and visualize datasets.\n",
        "#### In real scenarios you might need to develop new features, usually by developing your own functions\n",
        "\n",
        "\n",
        "\n",
        "\n",
        "\n",
        "\n"
      ],
      "metadata": {
        "id": "e4wggekw-bZH"
      }
    },
    {
      "cell_type": "markdown",
      "source": [
        "\n",
        "\n",
        "## What I hope you'll get out of this lab\n",
        "* The ability to develop functions in Python\n",
        "* The ability to apply functions to a pandas `DataFrame`"
      ],
      "metadata": {
        "id": "8SguSOca_AuG"
      }
    },
    {
      "cell_type": "code",
      "source": [
        ""
      ],
      "metadata": {
        "id": "OMMu6VJr-bZI"
      },
      "execution_count": null,
      "outputs": []
    },
    {
      "cell_type": "code",
      "source": [
        "import pandas as pd"
      ],
      "metadata": {
        "trusted": true,
        "id": "VvXxXXnu-bZI"
      },
      "execution_count": 1,
      "outputs": []
    },
    {
      "cell_type": "code",
      "source": [
        "import numpy as np"
      ],
      "metadata": {
        "trusted": true,
        "id": "avOwZNKe-bZI"
      },
      "execution_count": 2,
      "outputs": []
    },
    {
      "cell_type": "code",
      "source": [
        "from datetime import datetime"
      ],
      "metadata": {
        "trusted": true,
        "id": "YEaaQ4_--bZJ"
      },
      "execution_count": 3,
      "outputs": []
    },
    {
      "cell_type": "markdown",
      "source": [
        "## 1. Functions in python"
      ],
      "metadata": {
        "id": "g0qTrPXC-bZJ"
      }
    },
    {
      "cell_type": "markdown",
      "source": [
        "\n",
        "Functions are one of the cornerstones of programming. They provide a way to reuse code. If you’ve ever copy-pasted lines of code just to change a few parameters, then turning those lines of code into a function not only makes your code more readable, but also prevents you from making mistakes later on. \n",
        "\n",
        "Every time code is copy-pasted, it adds another place to look if a correction is needed, and puts that burden on the programmer. \n",
        "\n",
        "When you use a function, you need to make a correction only once, and it will be applied every time the function is called.\n",
        "\n",
        "\n",
        "Refer to the following URL for more information: https://swcarpentry.github.io/python-novice-inflammation/08-func/index.html\n"
      ],
      "metadata": {
        "id": "dC-dAfaz-bZK"
      }
    },
    {
      "cell_type": "code",
      "source": [
        "# The following function takes x as an argument, raises it to the power of two and returns the result\n",
        "\n",
        "def my_power_function(x):\n",
        "    powered= x**2\n",
        "    \n",
        "    return powered"
      ],
      "metadata": {
        "trusted": true,
        "id": "KdcpqiZ1-bZQ"
      },
      "execution_count": 4,
      "outputs": []
    },
    {
      "cell_type": "code",
      "source": [
        "my_power_function(3)"
      ],
      "metadata": {
        "trusted": true,
        "id": "Xsv6CcOa-bZQ",
        "outputId": "13094be5-4bad-4238-900e-00b944555c62",
        "colab": {
          "base_uri": "https://localhost:8080/"
        }
      },
      "execution_count": 5,
      "outputs": [
        {
          "output_type": "execute_result",
          "data": {
            "text/plain": [
              "9"
            ]
          },
          "metadata": {},
          "execution_count": 5
        }
      ]
    },
    {
      "cell_type": "code",
      "source": [
        "my_power_function(45)"
      ],
      "metadata": {
        "trusted": true,
        "id": "kjdeQ55S-bZR",
        "outputId": "f3ac525c-c5db-441b-855a-9790e4fa557d",
        "colab": {
          "base_uri": "https://localhost:8080/"
        }
      },
      "execution_count": 6,
      "outputs": [
        {
          "output_type": "execute_result",
          "data": {
            "text/plain": [
              "2025"
            ]
          },
          "metadata": {},
          "execution_count": 6
        }
      ]
    },
    {
      "cell_type": "markdown",
      "source": [
        "The function definition opens with the keyword def followed by the name of the function (my_power_function) and a parenthesized list of parameter names (x). The body of the function — the statements that are executed when it runs — is indented below the definition line. The body concludes with a return keyword followed by the return value.\n",
        "\n",
        "When we call the function, the values we pass to it are assigned to those variables so that we can use them inside the function. Inside the function, we use a return statement to send a result back to whoever asked for it."
      ],
      "metadata": {
        "id": "ps6u4CYE-bZS"
      }
    },
    {
      "cell_type": "code",
      "source": [
        ""
      ],
      "metadata": {
        "id": "NPKLHRb5-bZS"
      },
      "execution_count": 6,
      "outputs": []
    },
    {
      "cell_type": "code",
      "source": [
        "# The following function takes x,y as arguments, computes the average and returns the result\n",
        "\n",
        "def my_average_function(x,y):\n",
        "    avg= (x+y)/2\n",
        "    \n",
        "    return avg"
      ],
      "metadata": {
        "trusted": true,
        "id": "XKmW-7ma-bZS"
      },
      "execution_count": 7,
      "outputs": []
    },
    {
      "cell_type": "code",
      "source": [
        "my_average_function(4,6)"
      ],
      "metadata": {
        "trusted": true,
        "id": "IGfIU8UZ-bZT",
        "outputId": "98d47cbf-fc58-4c18-d99b-781d6c694cc8",
        "colab": {
          "base_uri": "https://localhost:8080/"
        }
      },
      "execution_count": 8,
      "outputs": [
        {
          "output_type": "execute_result",
          "data": {
            "text/plain": [
              "5.0"
            ]
          },
          "metadata": {},
          "execution_count": 8
        }
      ]
    },
    {
      "cell_type": "code",
      "source": [
        "my_average_function(15,45)"
      ],
      "metadata": {
        "trusted": true,
        "id": "Vx66o-yM-bZT",
        "outputId": "dfcce530-ef34-4af9-c60c-071272de47ef",
        "colab": {
          "base_uri": "https://localhost:8080/"
        }
      },
      "execution_count": 9,
      "outputs": [
        {
          "output_type": "execute_result",
          "data": {
            "text/plain": [
              "30.0"
            ]
          },
          "metadata": {},
          "execution_count": 9
        }
      ]
    },
    {
      "cell_type": "code",
      "source": [
        ""
      ],
      "metadata": {
        "id": "KQRffnos-bZT"
      },
      "execution_count": 9,
      "outputs": []
    },
    {
      "cell_type": "code",
      "source": [
        "def my_date_extractor(input_string):\n",
        "    year=input_string[0:10]\n",
        "    return year\n",
        "    "
      ],
      "metadata": {
        "trusted": true,
        "id": "q55pdaqL-bZT"
      },
      "execution_count": 10,
      "outputs": []
    },
    {
      "cell_type": "code",
      "source": [
        "date='2019-06-21 00:00:00+00:00'"
      ],
      "metadata": {
        "trusted": true,
        "id": "ohnA8Xag-bZT"
      },
      "execution_count": 11,
      "outputs": []
    },
    {
      "cell_type": "code",
      "source": [
        "my_date_extractor(date)"
      ],
      "metadata": {
        "trusted": true,
        "id": "VAFMIK4x-bZU",
        "outputId": "3a42ea48-a9d1-4ecf-a269-b994b230c673",
        "colab": {
          "base_uri": "https://localhost:8080/",
          "height": 35
        }
      },
      "execution_count": 12,
      "outputs": [
        {
          "output_type": "execute_result",
          "data": {
            "text/plain": [
              "'2019-06-21'"
            ],
            "application/vnd.google.colaboratory.intrinsic+json": {
              "type": "string"
            }
          },
          "metadata": {},
          "execution_count": 12
        }
      ]
    },
    {
      "cell_type": "code",
      "source": [
        ""
      ],
      "metadata": {
        "id": "gjgJn9i_-bZU"
      },
      "execution_count": 12,
      "outputs": []
    },
    {
      "cell_type": "markdown",
      "source": [
        "## 2. Lambda functions in python\n"
      ],
      "metadata": {
        "id": "FeviiE9Z-bZU"
      }
    },
    {
      "cell_type": "markdown",
      "source": [
        "### Sometimes the function used in the apply method is simple enough that there is no need to create a separate function."
      ],
      "metadata": {
        "id": "1YJ-USGk-bZU"
      }
    },
    {
      "cell_type": "markdown",
      "source": [
        "#### Lambda functions are extremely useful to process data in pandas-based environments !!"
      ],
      "metadata": {
        "id": "hHZgDouB-bZU"
      }
    },
    {
      "cell_type": "code",
      "source": [
        "lambda_add = lambda x, y: x + y"
      ],
      "metadata": {
        "trusted": true,
        "id": "p-Ji3rWP-bZV"
      },
      "execution_count": 13,
      "outputs": []
    },
    {
      "cell_type": "code",
      "source": [
        "lambda_add(3,4)"
      ],
      "metadata": {
        "trusted": true,
        "id": "G-24AcMl-bZV",
        "outputId": "4dd68bea-1094-44ae-8604-eeb0eea79db9",
        "colab": {
          "base_uri": "https://localhost:8080/"
        }
      },
      "execution_count": 14,
      "outputs": [
        {
          "output_type": "execute_result",
          "data": {
            "text/plain": [
              "7"
            ]
          },
          "metadata": {},
          "execution_count": 14
        }
      ]
    },
    {
      "cell_type": "code",
      "source": [
        "lambda_add(5,7)"
      ],
      "metadata": {
        "trusted": true,
        "id": "RvTWBe_M-bZV",
        "outputId": "1c3e6dbc-655a-49f9-e103-bf91f94c6586",
        "colab": {
          "base_uri": "https://localhost:8080/"
        }
      },
      "execution_count": 15,
      "outputs": [
        {
          "output_type": "execute_result",
          "data": {
            "text/plain": [
              "12"
            ]
          },
          "metadata": {},
          "execution_count": 15
        }
      ]
    },
    {
      "cell_type": "code",
      "source": [
        "lambda_mean= lambda x,y:(x+y)/2"
      ],
      "metadata": {
        "trusted": true,
        "id": "2ALWIEox-bZV"
      },
      "execution_count": 16,
      "outputs": []
    },
    {
      "cell_type": "code",
      "source": [
        "lambda_mean(0,10)"
      ],
      "metadata": {
        "trusted": true,
        "id": "KEEld0Me-bZV",
        "outputId": "fbba3b09-ae6a-41be-d2fd-410c0a10a593",
        "colab": {
          "base_uri": "https://localhost:8080/"
        }
      },
      "execution_count": 17,
      "outputs": [
        {
          "output_type": "execute_result",
          "data": {
            "text/plain": [
              "5.0"
            ]
          },
          "metadata": {},
          "execution_count": 17
        }
      ]
    },
    {
      "cell_type": "code",
      "source": [
        ""
      ],
      "metadata": {
        "id": "jl40_-LF-bZW"
      },
      "execution_count": 17,
      "outputs": []
    },
    {
      "cell_type": "code",
      "source": [
        "lambda_date_extractor = lambda date:date[0:10]"
      ],
      "metadata": {
        "trusted": true,
        "id": "sHZ-WtSC-bZW"
      },
      "execution_count": 18,
      "outputs": []
    },
    {
      "cell_type": "code",
      "source": [
        "lambda_date_extractor('2019-06-21 00:00:00+00:00')"
      ],
      "metadata": {
        "trusted": true,
        "id": "DlByBi0d-bZW",
        "outputId": "0e077268-517e-4316-d272-0a6239d84be8",
        "colab": {
          "base_uri": "https://localhost:8080/",
          "height": 35
        }
      },
      "execution_count": 19,
      "outputs": [
        {
          "output_type": "execute_result",
          "data": {
            "text/plain": [
              "'2019-06-21'"
            ],
            "application/vnd.google.colaboratory.intrinsic+json": {
              "type": "string"
            }
          },
          "metadata": {},
          "execution_count": 19
        }
      ]
    },
    {
      "cell_type": "code",
      "source": [
        ""
      ],
      "metadata": {
        "id": "q48roZWy-bZW"
      },
      "execution_count": 19,
      "outputs": []
    },
    {
      "cell_type": "code",
      "source": [
        ""
      ],
      "metadata": {
        "id": "iOu9d1Yx-bZW"
      },
      "execution_count": 19,
      "outputs": []
    },
    {
      "cell_type": "markdown",
      "source": [
        "## 3. Apply functions to a pandas dataframe"
      ],
      "metadata": {
        "id": "MpEA8PVf-bZW"
      }
    },
    {
      "cell_type": "markdown",
      "source": [
        "Now that we know how to write a function, how would we use them in Pandas? When working with dataframes, it’s more likely that you want to use a function across rows or columns of your data.\n",
        "\n",
        "Pandas provides a method to apply a funcion to an entire dataframe.\n",
        "\n",
        "Learning about apply is fundamental in the data cleaning process. Apply takes a function and “applies” (i.e., runs it) across each row or column of a dataframe “simultaneously.” If you’ve programmed before, then the concept of an “apply” should be familiar. It is similar to writing a for loop across each row or column and calling the function—apply just does it simultaneously. In general, this is the preferred way to apply functions across dataframes, because it typically is much faster than writing a for loop in Python\n"
      ],
      "metadata": {
        "id": "j4T1m-zy-bZW"
      }
    },
    {
      "cell_type": "markdown",
      "source": [
        "### 3.1. Let's load some data"
      ],
      "metadata": {
        "id": "ljOKgUUe-bZX"
      }
    },
    {
      "cell_type": "code",
      "source": [
        "air_quality_no2 = pd.read_csv('https://raw.githubusercontent.com/thousandoaks/Python4DS101/master/data/air_quality_no2_long.csv',parse_dates=True)"
      ],
      "metadata": {
        "trusted": true,
        "id": "IhWZgfBh-bZX"
      },
      "execution_count": 20,
      "outputs": []
    },
    {
      "cell_type": "code",
      "source": [
        "air_quality_no2"
      ],
      "metadata": {
        "trusted": true,
        "id": "edc9mI9R-bZX",
        "outputId": "ea2b659f-7350-4f7a-a247-f9f704c8e6c7",
        "colab": {
          "base_uri": "https://localhost:8080/",
          "height": 424
        }
      },
      "execution_count": 21,
      "outputs": [
        {
          "output_type": "execute_result",
          "data": {
            "text/plain": [
              "        city country                   date.utc            location parameter  \\\n",
              "0      Paris      FR  2019-06-21 00:00:00+00:00             FR04014       no2   \n",
              "1      Paris      FR  2019-06-20 23:00:00+00:00             FR04014       no2   \n",
              "2      Paris      FR  2019-06-20 22:00:00+00:00             FR04014       no2   \n",
              "3      Paris      FR  2019-06-20 21:00:00+00:00             FR04014       no2   \n",
              "4      Paris      FR  2019-06-20 20:00:00+00:00             FR04014       no2   \n",
              "...      ...     ...                        ...                 ...       ...   \n",
              "2063  London      GB  2019-05-07 06:00:00+00:00  London Westminster       no2   \n",
              "2064  London      GB  2019-05-07 04:00:00+00:00  London Westminster       no2   \n",
              "2065  London      GB  2019-05-07 03:00:00+00:00  London Westminster       no2   \n",
              "2066  London      GB  2019-05-07 02:00:00+00:00  London Westminster       no2   \n",
              "2067  London      GB  2019-05-07 01:00:00+00:00  London Westminster       no2   \n",
              "\n",
              "      value   unit  \n",
              "0      20.0  µg/m³  \n",
              "1      21.8  µg/m³  \n",
              "2      26.5  µg/m³  \n",
              "3      24.9  µg/m³  \n",
              "4      21.4  µg/m³  \n",
              "...     ...    ...  \n",
              "2063   26.0  µg/m³  \n",
              "2064   16.0  µg/m³  \n",
              "2065   19.0  µg/m³  \n",
              "2066   19.0  µg/m³  \n",
              "2067   23.0  µg/m³  \n",
              "\n",
              "[2068 rows x 7 columns]"
            ],
            "text/html": [
              "\n",
              "  <div id=\"df-a088a66a-28fd-4202-8121-740afdc28a25\">\n",
              "    <div class=\"colab-df-container\">\n",
              "      <div>\n",
              "<style scoped>\n",
              "    .dataframe tbody tr th:only-of-type {\n",
              "        vertical-align: middle;\n",
              "    }\n",
              "\n",
              "    .dataframe tbody tr th {\n",
              "        vertical-align: top;\n",
              "    }\n",
              "\n",
              "    .dataframe thead th {\n",
              "        text-align: right;\n",
              "    }\n",
              "</style>\n",
              "<table border=\"1\" class=\"dataframe\">\n",
              "  <thead>\n",
              "    <tr style=\"text-align: right;\">\n",
              "      <th></th>\n",
              "      <th>city</th>\n",
              "      <th>country</th>\n",
              "      <th>date.utc</th>\n",
              "      <th>location</th>\n",
              "      <th>parameter</th>\n",
              "      <th>value</th>\n",
              "      <th>unit</th>\n",
              "    </tr>\n",
              "  </thead>\n",
              "  <tbody>\n",
              "    <tr>\n",
              "      <th>0</th>\n",
              "      <td>Paris</td>\n",
              "      <td>FR</td>\n",
              "      <td>2019-06-21 00:00:00+00:00</td>\n",
              "      <td>FR04014</td>\n",
              "      <td>no2</td>\n",
              "      <td>20.0</td>\n",
              "      <td>µg/m³</td>\n",
              "    </tr>\n",
              "    <tr>\n",
              "      <th>1</th>\n",
              "      <td>Paris</td>\n",
              "      <td>FR</td>\n",
              "      <td>2019-06-20 23:00:00+00:00</td>\n",
              "      <td>FR04014</td>\n",
              "      <td>no2</td>\n",
              "      <td>21.8</td>\n",
              "      <td>µg/m³</td>\n",
              "    </tr>\n",
              "    <tr>\n",
              "      <th>2</th>\n",
              "      <td>Paris</td>\n",
              "      <td>FR</td>\n",
              "      <td>2019-06-20 22:00:00+00:00</td>\n",
              "      <td>FR04014</td>\n",
              "      <td>no2</td>\n",
              "      <td>26.5</td>\n",
              "      <td>µg/m³</td>\n",
              "    </tr>\n",
              "    <tr>\n",
              "      <th>3</th>\n",
              "      <td>Paris</td>\n",
              "      <td>FR</td>\n",
              "      <td>2019-06-20 21:00:00+00:00</td>\n",
              "      <td>FR04014</td>\n",
              "      <td>no2</td>\n",
              "      <td>24.9</td>\n",
              "      <td>µg/m³</td>\n",
              "    </tr>\n",
              "    <tr>\n",
              "      <th>4</th>\n",
              "      <td>Paris</td>\n",
              "      <td>FR</td>\n",
              "      <td>2019-06-20 20:00:00+00:00</td>\n",
              "      <td>FR04014</td>\n",
              "      <td>no2</td>\n",
              "      <td>21.4</td>\n",
              "      <td>µg/m³</td>\n",
              "    </tr>\n",
              "    <tr>\n",
              "      <th>...</th>\n",
              "      <td>...</td>\n",
              "      <td>...</td>\n",
              "      <td>...</td>\n",
              "      <td>...</td>\n",
              "      <td>...</td>\n",
              "      <td>...</td>\n",
              "      <td>...</td>\n",
              "    </tr>\n",
              "    <tr>\n",
              "      <th>2063</th>\n",
              "      <td>London</td>\n",
              "      <td>GB</td>\n",
              "      <td>2019-05-07 06:00:00+00:00</td>\n",
              "      <td>London Westminster</td>\n",
              "      <td>no2</td>\n",
              "      <td>26.0</td>\n",
              "      <td>µg/m³</td>\n",
              "    </tr>\n",
              "    <tr>\n",
              "      <th>2064</th>\n",
              "      <td>London</td>\n",
              "      <td>GB</td>\n",
              "      <td>2019-05-07 04:00:00+00:00</td>\n",
              "      <td>London Westminster</td>\n",
              "      <td>no2</td>\n",
              "      <td>16.0</td>\n",
              "      <td>µg/m³</td>\n",
              "    </tr>\n",
              "    <tr>\n",
              "      <th>2065</th>\n",
              "      <td>London</td>\n",
              "      <td>GB</td>\n",
              "      <td>2019-05-07 03:00:00+00:00</td>\n",
              "      <td>London Westminster</td>\n",
              "      <td>no2</td>\n",
              "      <td>19.0</td>\n",
              "      <td>µg/m³</td>\n",
              "    </tr>\n",
              "    <tr>\n",
              "      <th>2066</th>\n",
              "      <td>London</td>\n",
              "      <td>GB</td>\n",
              "      <td>2019-05-07 02:00:00+00:00</td>\n",
              "      <td>London Westminster</td>\n",
              "      <td>no2</td>\n",
              "      <td>19.0</td>\n",
              "      <td>µg/m³</td>\n",
              "    </tr>\n",
              "    <tr>\n",
              "      <th>2067</th>\n",
              "      <td>London</td>\n",
              "      <td>GB</td>\n",
              "      <td>2019-05-07 01:00:00+00:00</td>\n",
              "      <td>London Westminster</td>\n",
              "      <td>no2</td>\n",
              "      <td>23.0</td>\n",
              "      <td>µg/m³</td>\n",
              "    </tr>\n",
              "  </tbody>\n",
              "</table>\n",
              "<p>2068 rows × 7 columns</p>\n",
              "</div>\n",
              "      <button class=\"colab-df-convert\" onclick=\"convertToInteractive('df-a088a66a-28fd-4202-8121-740afdc28a25')\"\n",
              "              title=\"Convert this dataframe to an interactive table.\"\n",
              "              style=\"display:none;\">\n",
              "        \n",
              "  <svg xmlns=\"http://www.w3.org/2000/svg\" height=\"24px\"viewBox=\"0 0 24 24\"\n",
              "       width=\"24px\">\n",
              "    <path d=\"M0 0h24v24H0V0z\" fill=\"none\"/>\n",
              "    <path d=\"M18.56 5.44l.94 2.06.94-2.06 2.06-.94-2.06-.94-.94-2.06-.94 2.06-2.06.94zm-11 1L8.5 8.5l.94-2.06 2.06-.94-2.06-.94L8.5 2.5l-.94 2.06-2.06.94zm10 10l.94 2.06.94-2.06 2.06-.94-2.06-.94-.94-2.06-.94 2.06-2.06.94z\"/><path d=\"M17.41 7.96l-1.37-1.37c-.4-.4-.92-.59-1.43-.59-.52 0-1.04.2-1.43.59L10.3 9.45l-7.72 7.72c-.78.78-.78 2.05 0 2.83L4 21.41c.39.39.9.59 1.41.59.51 0 1.02-.2 1.41-.59l7.78-7.78 2.81-2.81c.8-.78.8-2.07 0-2.86zM5.41 20L4 18.59l7.72-7.72 1.47 1.35L5.41 20z\"/>\n",
              "  </svg>\n",
              "      </button>\n",
              "      \n",
              "  <style>\n",
              "    .colab-df-container {\n",
              "      display:flex;\n",
              "      flex-wrap:wrap;\n",
              "      gap: 12px;\n",
              "    }\n",
              "\n",
              "    .colab-df-convert {\n",
              "      background-color: #E8F0FE;\n",
              "      border: none;\n",
              "      border-radius: 50%;\n",
              "      cursor: pointer;\n",
              "      display: none;\n",
              "      fill: #1967D2;\n",
              "      height: 32px;\n",
              "      padding: 0 0 0 0;\n",
              "      width: 32px;\n",
              "    }\n",
              "\n",
              "    .colab-df-convert:hover {\n",
              "      background-color: #E2EBFA;\n",
              "      box-shadow: 0px 1px 2px rgba(60, 64, 67, 0.3), 0px 1px 3px 1px rgba(60, 64, 67, 0.15);\n",
              "      fill: #174EA6;\n",
              "    }\n",
              "\n",
              "    [theme=dark] .colab-df-convert {\n",
              "      background-color: #3B4455;\n",
              "      fill: #D2E3FC;\n",
              "    }\n",
              "\n",
              "    [theme=dark] .colab-df-convert:hover {\n",
              "      background-color: #434B5C;\n",
              "      box-shadow: 0px 1px 3px 1px rgba(0, 0, 0, 0.15);\n",
              "      filter: drop-shadow(0px 1px 2px rgba(0, 0, 0, 0.3));\n",
              "      fill: #FFFFFF;\n",
              "    }\n",
              "  </style>\n",
              "\n",
              "      <script>\n",
              "        const buttonEl =\n",
              "          document.querySelector('#df-a088a66a-28fd-4202-8121-740afdc28a25 button.colab-df-convert');\n",
              "        buttonEl.style.display =\n",
              "          google.colab.kernel.accessAllowed ? 'block' : 'none';\n",
              "\n",
              "        async function convertToInteractive(key) {\n",
              "          const element = document.querySelector('#df-a088a66a-28fd-4202-8121-740afdc28a25');\n",
              "          const dataTable =\n",
              "            await google.colab.kernel.invokeFunction('convertToInteractive',\n",
              "                                                     [key], {});\n",
              "          if (!dataTable) return;\n",
              "\n",
              "          const docLinkHtml = 'Like what you see? Visit the ' +\n",
              "            '<a target=\"_blank\" href=https://colab.research.google.com/notebooks/data_table.ipynb>data table notebook</a>'\n",
              "            + ' to learn more about interactive tables.';\n",
              "          element.innerHTML = '';\n",
              "          dataTable['output_type'] = 'display_data';\n",
              "          await google.colab.output.renderOutput(dataTable, element);\n",
              "          const docLink = document.createElement('div');\n",
              "          docLink.innerHTML = docLinkHtml;\n",
              "          element.appendChild(docLink);\n",
              "        }\n",
              "      </script>\n",
              "    </div>\n",
              "  </div>\n",
              "  "
            ]
          },
          "metadata": {},
          "execution_count": 21
        }
      ]
    },
    {
      "cell_type": "markdown",
      "source": [
        "### 3.2 Using Apply with your functions "
      ],
      "metadata": {
        "id": "QsVWwHDp-bZX"
      }
    },
    {
      "cell_type": "code",
      "source": [
        "### WE first DEFINE A FUNCTION\n",
        "def my_power_function(x):\n",
        "    powered= x**2\n",
        "    \n",
        "    return powered"
      ],
      "metadata": {
        "trusted": true,
        "id": "EHXqBuEq-bZX"
      },
      "execution_count": 22,
      "outputs": []
    },
    {
      "cell_type": "code",
      "source": [
        "air_quality_no2['value'].apply(my_power_function)"
      ],
      "metadata": {
        "trusted": true,
        "id": "09w-FHEM-bZX",
        "outputId": "03da1888-6f9a-4ca2-ab44-7a070ce1d4ca",
        "colab": {
          "base_uri": "https://localhost:8080/"
        }
      },
      "execution_count": 23,
      "outputs": [
        {
          "output_type": "execute_result",
          "data": {
            "text/plain": [
              "0       400.00\n",
              "1       475.24\n",
              "2       702.25\n",
              "3       620.01\n",
              "4       457.96\n",
              "         ...  \n",
              "2063    676.00\n",
              "2064    256.00\n",
              "2065    361.00\n",
              "2066    361.00\n",
              "2067    529.00\n",
              "Name: value, Length: 2068, dtype: float64"
            ]
          },
          "metadata": {},
          "execution_count": 23
        }
      ]
    },
    {
      "cell_type": "code",
      "source": [
        "## we save the result as a new column\n",
        "air_quality_no2['powered']=air_quality_no2['value'].apply(my_power_function)"
      ],
      "metadata": {
        "trusted": true,
        "id": "YxHkwINA-bZX"
      },
      "execution_count": 24,
      "outputs": []
    },
    {
      "cell_type": "code",
      "source": [
        "air_quality_no2"
      ],
      "metadata": {
        "trusted": true,
        "id": "kBbFlaI3-bZY",
        "outputId": "3d89cd6e-d865-4c93-c89b-10001d3bb6dc",
        "colab": {
          "base_uri": "https://localhost:8080/",
          "height": 424
        }
      },
      "execution_count": 25,
      "outputs": [
        {
          "output_type": "execute_result",
          "data": {
            "text/plain": [
              "        city country                   date.utc            location parameter  \\\n",
              "0      Paris      FR  2019-06-21 00:00:00+00:00             FR04014       no2   \n",
              "1      Paris      FR  2019-06-20 23:00:00+00:00             FR04014       no2   \n",
              "2      Paris      FR  2019-06-20 22:00:00+00:00             FR04014       no2   \n",
              "3      Paris      FR  2019-06-20 21:00:00+00:00             FR04014       no2   \n",
              "4      Paris      FR  2019-06-20 20:00:00+00:00             FR04014       no2   \n",
              "...      ...     ...                        ...                 ...       ...   \n",
              "2063  London      GB  2019-05-07 06:00:00+00:00  London Westminster       no2   \n",
              "2064  London      GB  2019-05-07 04:00:00+00:00  London Westminster       no2   \n",
              "2065  London      GB  2019-05-07 03:00:00+00:00  London Westminster       no2   \n",
              "2066  London      GB  2019-05-07 02:00:00+00:00  London Westminster       no2   \n",
              "2067  London      GB  2019-05-07 01:00:00+00:00  London Westminster       no2   \n",
              "\n",
              "      value   unit  powered  \n",
              "0      20.0  µg/m³   400.00  \n",
              "1      21.8  µg/m³   475.24  \n",
              "2      26.5  µg/m³   702.25  \n",
              "3      24.9  µg/m³   620.01  \n",
              "4      21.4  µg/m³   457.96  \n",
              "...     ...    ...      ...  \n",
              "2063   26.0  µg/m³   676.00  \n",
              "2064   16.0  µg/m³   256.00  \n",
              "2065   19.0  µg/m³   361.00  \n",
              "2066   19.0  µg/m³   361.00  \n",
              "2067   23.0  µg/m³   529.00  \n",
              "\n",
              "[2068 rows x 8 columns]"
            ],
            "text/html": [
              "\n",
              "  <div id=\"df-fea316f9-1ad7-44f3-aee9-af607094db57\">\n",
              "    <div class=\"colab-df-container\">\n",
              "      <div>\n",
              "<style scoped>\n",
              "    .dataframe tbody tr th:only-of-type {\n",
              "        vertical-align: middle;\n",
              "    }\n",
              "\n",
              "    .dataframe tbody tr th {\n",
              "        vertical-align: top;\n",
              "    }\n",
              "\n",
              "    .dataframe thead th {\n",
              "        text-align: right;\n",
              "    }\n",
              "</style>\n",
              "<table border=\"1\" class=\"dataframe\">\n",
              "  <thead>\n",
              "    <tr style=\"text-align: right;\">\n",
              "      <th></th>\n",
              "      <th>city</th>\n",
              "      <th>country</th>\n",
              "      <th>date.utc</th>\n",
              "      <th>location</th>\n",
              "      <th>parameter</th>\n",
              "      <th>value</th>\n",
              "      <th>unit</th>\n",
              "      <th>powered</th>\n",
              "    </tr>\n",
              "  </thead>\n",
              "  <tbody>\n",
              "    <tr>\n",
              "      <th>0</th>\n",
              "      <td>Paris</td>\n",
              "      <td>FR</td>\n",
              "      <td>2019-06-21 00:00:00+00:00</td>\n",
              "      <td>FR04014</td>\n",
              "      <td>no2</td>\n",
              "      <td>20.0</td>\n",
              "      <td>µg/m³</td>\n",
              "      <td>400.00</td>\n",
              "    </tr>\n",
              "    <tr>\n",
              "      <th>1</th>\n",
              "      <td>Paris</td>\n",
              "      <td>FR</td>\n",
              "      <td>2019-06-20 23:00:00+00:00</td>\n",
              "      <td>FR04014</td>\n",
              "      <td>no2</td>\n",
              "      <td>21.8</td>\n",
              "      <td>µg/m³</td>\n",
              "      <td>475.24</td>\n",
              "    </tr>\n",
              "    <tr>\n",
              "      <th>2</th>\n",
              "      <td>Paris</td>\n",
              "      <td>FR</td>\n",
              "      <td>2019-06-20 22:00:00+00:00</td>\n",
              "      <td>FR04014</td>\n",
              "      <td>no2</td>\n",
              "      <td>26.5</td>\n",
              "      <td>µg/m³</td>\n",
              "      <td>702.25</td>\n",
              "    </tr>\n",
              "    <tr>\n",
              "      <th>3</th>\n",
              "      <td>Paris</td>\n",
              "      <td>FR</td>\n",
              "      <td>2019-06-20 21:00:00+00:00</td>\n",
              "      <td>FR04014</td>\n",
              "      <td>no2</td>\n",
              "      <td>24.9</td>\n",
              "      <td>µg/m³</td>\n",
              "      <td>620.01</td>\n",
              "    </tr>\n",
              "    <tr>\n",
              "      <th>4</th>\n",
              "      <td>Paris</td>\n",
              "      <td>FR</td>\n",
              "      <td>2019-06-20 20:00:00+00:00</td>\n",
              "      <td>FR04014</td>\n",
              "      <td>no2</td>\n",
              "      <td>21.4</td>\n",
              "      <td>µg/m³</td>\n",
              "      <td>457.96</td>\n",
              "    </tr>\n",
              "    <tr>\n",
              "      <th>...</th>\n",
              "      <td>...</td>\n",
              "      <td>...</td>\n",
              "      <td>...</td>\n",
              "      <td>...</td>\n",
              "      <td>...</td>\n",
              "      <td>...</td>\n",
              "      <td>...</td>\n",
              "      <td>...</td>\n",
              "    </tr>\n",
              "    <tr>\n",
              "      <th>2063</th>\n",
              "      <td>London</td>\n",
              "      <td>GB</td>\n",
              "      <td>2019-05-07 06:00:00+00:00</td>\n",
              "      <td>London Westminster</td>\n",
              "      <td>no2</td>\n",
              "      <td>26.0</td>\n",
              "      <td>µg/m³</td>\n",
              "      <td>676.00</td>\n",
              "    </tr>\n",
              "    <tr>\n",
              "      <th>2064</th>\n",
              "      <td>London</td>\n",
              "      <td>GB</td>\n",
              "      <td>2019-05-07 04:00:00+00:00</td>\n",
              "      <td>London Westminster</td>\n",
              "      <td>no2</td>\n",
              "      <td>16.0</td>\n",
              "      <td>µg/m³</td>\n",
              "      <td>256.00</td>\n",
              "    </tr>\n",
              "    <tr>\n",
              "      <th>2065</th>\n",
              "      <td>London</td>\n",
              "      <td>GB</td>\n",
              "      <td>2019-05-07 03:00:00+00:00</td>\n",
              "      <td>London Westminster</td>\n",
              "      <td>no2</td>\n",
              "      <td>19.0</td>\n",
              "      <td>µg/m³</td>\n",
              "      <td>361.00</td>\n",
              "    </tr>\n",
              "    <tr>\n",
              "      <th>2066</th>\n",
              "      <td>London</td>\n",
              "      <td>GB</td>\n",
              "      <td>2019-05-07 02:00:00+00:00</td>\n",
              "      <td>London Westminster</td>\n",
              "      <td>no2</td>\n",
              "      <td>19.0</td>\n",
              "      <td>µg/m³</td>\n",
              "      <td>361.00</td>\n",
              "    </tr>\n",
              "    <tr>\n",
              "      <th>2067</th>\n",
              "      <td>London</td>\n",
              "      <td>GB</td>\n",
              "      <td>2019-05-07 01:00:00+00:00</td>\n",
              "      <td>London Westminster</td>\n",
              "      <td>no2</td>\n",
              "      <td>23.0</td>\n",
              "      <td>µg/m³</td>\n",
              "      <td>529.00</td>\n",
              "    </tr>\n",
              "  </tbody>\n",
              "</table>\n",
              "<p>2068 rows × 8 columns</p>\n",
              "</div>\n",
              "      <button class=\"colab-df-convert\" onclick=\"convertToInteractive('df-fea316f9-1ad7-44f3-aee9-af607094db57')\"\n",
              "              title=\"Convert this dataframe to an interactive table.\"\n",
              "              style=\"display:none;\">\n",
              "        \n",
              "  <svg xmlns=\"http://www.w3.org/2000/svg\" height=\"24px\"viewBox=\"0 0 24 24\"\n",
              "       width=\"24px\">\n",
              "    <path d=\"M0 0h24v24H0V0z\" fill=\"none\"/>\n",
              "    <path d=\"M18.56 5.44l.94 2.06.94-2.06 2.06-.94-2.06-.94-.94-2.06-.94 2.06-2.06.94zm-11 1L8.5 8.5l.94-2.06 2.06-.94-2.06-.94L8.5 2.5l-.94 2.06-2.06.94zm10 10l.94 2.06.94-2.06 2.06-.94-2.06-.94-.94-2.06-.94 2.06-2.06.94z\"/><path d=\"M17.41 7.96l-1.37-1.37c-.4-.4-.92-.59-1.43-.59-.52 0-1.04.2-1.43.59L10.3 9.45l-7.72 7.72c-.78.78-.78 2.05 0 2.83L4 21.41c.39.39.9.59 1.41.59.51 0 1.02-.2 1.41-.59l7.78-7.78 2.81-2.81c.8-.78.8-2.07 0-2.86zM5.41 20L4 18.59l7.72-7.72 1.47 1.35L5.41 20z\"/>\n",
              "  </svg>\n",
              "      </button>\n",
              "      \n",
              "  <style>\n",
              "    .colab-df-container {\n",
              "      display:flex;\n",
              "      flex-wrap:wrap;\n",
              "      gap: 12px;\n",
              "    }\n",
              "\n",
              "    .colab-df-convert {\n",
              "      background-color: #E8F0FE;\n",
              "      border: none;\n",
              "      border-radius: 50%;\n",
              "      cursor: pointer;\n",
              "      display: none;\n",
              "      fill: #1967D2;\n",
              "      height: 32px;\n",
              "      padding: 0 0 0 0;\n",
              "      width: 32px;\n",
              "    }\n",
              "\n",
              "    .colab-df-convert:hover {\n",
              "      background-color: #E2EBFA;\n",
              "      box-shadow: 0px 1px 2px rgba(60, 64, 67, 0.3), 0px 1px 3px 1px rgba(60, 64, 67, 0.15);\n",
              "      fill: #174EA6;\n",
              "    }\n",
              "\n",
              "    [theme=dark] .colab-df-convert {\n",
              "      background-color: #3B4455;\n",
              "      fill: #D2E3FC;\n",
              "    }\n",
              "\n",
              "    [theme=dark] .colab-df-convert:hover {\n",
              "      background-color: #434B5C;\n",
              "      box-shadow: 0px 1px 3px 1px rgba(0, 0, 0, 0.15);\n",
              "      filter: drop-shadow(0px 1px 2px rgba(0, 0, 0, 0.3));\n",
              "      fill: #FFFFFF;\n",
              "    }\n",
              "  </style>\n",
              "\n",
              "      <script>\n",
              "        const buttonEl =\n",
              "          document.querySelector('#df-fea316f9-1ad7-44f3-aee9-af607094db57 button.colab-df-convert');\n",
              "        buttonEl.style.display =\n",
              "          google.colab.kernel.accessAllowed ? 'block' : 'none';\n",
              "\n",
              "        async function convertToInteractive(key) {\n",
              "          const element = document.querySelector('#df-fea316f9-1ad7-44f3-aee9-af607094db57');\n",
              "          const dataTable =\n",
              "            await google.colab.kernel.invokeFunction('convertToInteractive',\n",
              "                                                     [key], {});\n",
              "          if (!dataTable) return;\n",
              "\n",
              "          const docLinkHtml = 'Like what you see? Visit the ' +\n",
              "            '<a target=\"_blank\" href=https://colab.research.google.com/notebooks/data_table.ipynb>data table notebook</a>'\n",
              "            + ' to learn more about interactive tables.';\n",
              "          element.innerHTML = '';\n",
              "          dataTable['output_type'] = 'display_data';\n",
              "          await google.colab.output.renderOutput(dataTable, element);\n",
              "          const docLink = document.createElement('div');\n",
              "          docLink.innerHTML = docLinkHtml;\n",
              "          element.appendChild(docLink);\n",
              "        }\n",
              "      </script>\n",
              "    </div>\n",
              "  </div>\n",
              "  "
            ]
          },
          "metadata": {},
          "execution_count": 25
        }
      ]
    },
    {
      "cell_type": "code",
      "source": [
        ""
      ],
      "metadata": {
        "id": "DAr74lYG-bZY"
      },
      "execution_count": 25,
      "outputs": []
    },
    {
      "cell_type": "code",
      "source": [
        "## Function which takes the first 10 characters of a string\n",
        "def my_date_extractor(input_string):\n",
        "    year=input_string[0:10]\n",
        "    return year\n",
        "    "
      ],
      "metadata": {
        "trusted": true,
        "id": "-PB1MBGM-bZY"
      },
      "execution_count": 26,
      "outputs": []
    },
    {
      "cell_type": "code",
      "source": [
        "air_quality_no2['date.utc'].apply(my_date_extractor)"
      ],
      "metadata": {
        "trusted": true,
        "id": "VyRvRjWt-bZY",
        "outputId": "a58191b3-972f-4da4-aeb9-6171f540ff82",
        "colab": {
          "base_uri": "https://localhost:8080/"
        }
      },
      "execution_count": 27,
      "outputs": [
        {
          "output_type": "execute_result",
          "data": {
            "text/plain": [
              "0       2019-06-21\n",
              "1       2019-06-20\n",
              "2       2019-06-20\n",
              "3       2019-06-20\n",
              "4       2019-06-20\n",
              "           ...    \n",
              "2063    2019-05-07\n",
              "2064    2019-05-07\n",
              "2065    2019-05-07\n",
              "2066    2019-05-07\n",
              "2067    2019-05-07\n",
              "Name: date.utc, Length: 2068, dtype: object"
            ]
          },
          "metadata": {},
          "execution_count": 27
        }
      ]
    },
    {
      "cell_type": "code",
      "source": [
        ""
      ],
      "metadata": {
        "id": "VJterWxI-bZY"
      },
      "execution_count": 27,
      "outputs": []
    },
    {
      "cell_type": "code",
      "source": [
        "air_quality_no2['date']=air_quality_no2['date.utc'].apply(my_date_extractor)"
      ],
      "metadata": {
        "trusted": true,
        "id": "bbq4fSeQ-bZY"
      },
      "execution_count": 28,
      "outputs": []
    },
    {
      "cell_type": "code",
      "source": [
        "air_quality_no2"
      ],
      "metadata": {
        "trusted": true,
        "id": "2vTfpAKO-bZY",
        "outputId": "36665c01-4d93-4d69-c3b5-ce4f0d383056",
        "colab": {
          "base_uri": "https://localhost:8080/",
          "height": 424
        }
      },
      "execution_count": 29,
      "outputs": [
        {
          "output_type": "execute_result",
          "data": {
            "text/plain": [
              "        city country                   date.utc            location parameter  \\\n",
              "0      Paris      FR  2019-06-21 00:00:00+00:00             FR04014       no2   \n",
              "1      Paris      FR  2019-06-20 23:00:00+00:00             FR04014       no2   \n",
              "2      Paris      FR  2019-06-20 22:00:00+00:00             FR04014       no2   \n",
              "3      Paris      FR  2019-06-20 21:00:00+00:00             FR04014       no2   \n",
              "4      Paris      FR  2019-06-20 20:00:00+00:00             FR04014       no2   \n",
              "...      ...     ...                        ...                 ...       ...   \n",
              "2063  London      GB  2019-05-07 06:00:00+00:00  London Westminster       no2   \n",
              "2064  London      GB  2019-05-07 04:00:00+00:00  London Westminster       no2   \n",
              "2065  London      GB  2019-05-07 03:00:00+00:00  London Westminster       no2   \n",
              "2066  London      GB  2019-05-07 02:00:00+00:00  London Westminster       no2   \n",
              "2067  London      GB  2019-05-07 01:00:00+00:00  London Westminster       no2   \n",
              "\n",
              "      value   unit  powered        date  \n",
              "0      20.0  µg/m³   400.00  2019-06-21  \n",
              "1      21.8  µg/m³   475.24  2019-06-20  \n",
              "2      26.5  µg/m³   702.25  2019-06-20  \n",
              "3      24.9  µg/m³   620.01  2019-06-20  \n",
              "4      21.4  µg/m³   457.96  2019-06-20  \n",
              "...     ...    ...      ...         ...  \n",
              "2063   26.0  µg/m³   676.00  2019-05-07  \n",
              "2064   16.0  µg/m³   256.00  2019-05-07  \n",
              "2065   19.0  µg/m³   361.00  2019-05-07  \n",
              "2066   19.0  µg/m³   361.00  2019-05-07  \n",
              "2067   23.0  µg/m³   529.00  2019-05-07  \n",
              "\n",
              "[2068 rows x 9 columns]"
            ],
            "text/html": [
              "\n",
              "  <div id=\"df-9e1b65ae-6432-4855-8630-9b490c490660\">\n",
              "    <div class=\"colab-df-container\">\n",
              "      <div>\n",
              "<style scoped>\n",
              "    .dataframe tbody tr th:only-of-type {\n",
              "        vertical-align: middle;\n",
              "    }\n",
              "\n",
              "    .dataframe tbody tr th {\n",
              "        vertical-align: top;\n",
              "    }\n",
              "\n",
              "    .dataframe thead th {\n",
              "        text-align: right;\n",
              "    }\n",
              "</style>\n",
              "<table border=\"1\" class=\"dataframe\">\n",
              "  <thead>\n",
              "    <tr style=\"text-align: right;\">\n",
              "      <th></th>\n",
              "      <th>city</th>\n",
              "      <th>country</th>\n",
              "      <th>date.utc</th>\n",
              "      <th>location</th>\n",
              "      <th>parameter</th>\n",
              "      <th>value</th>\n",
              "      <th>unit</th>\n",
              "      <th>powered</th>\n",
              "      <th>date</th>\n",
              "    </tr>\n",
              "  </thead>\n",
              "  <tbody>\n",
              "    <tr>\n",
              "      <th>0</th>\n",
              "      <td>Paris</td>\n",
              "      <td>FR</td>\n",
              "      <td>2019-06-21 00:00:00+00:00</td>\n",
              "      <td>FR04014</td>\n",
              "      <td>no2</td>\n",
              "      <td>20.0</td>\n",
              "      <td>µg/m³</td>\n",
              "      <td>400.00</td>\n",
              "      <td>2019-06-21</td>\n",
              "    </tr>\n",
              "    <tr>\n",
              "      <th>1</th>\n",
              "      <td>Paris</td>\n",
              "      <td>FR</td>\n",
              "      <td>2019-06-20 23:00:00+00:00</td>\n",
              "      <td>FR04014</td>\n",
              "      <td>no2</td>\n",
              "      <td>21.8</td>\n",
              "      <td>µg/m³</td>\n",
              "      <td>475.24</td>\n",
              "      <td>2019-06-20</td>\n",
              "    </tr>\n",
              "    <tr>\n",
              "      <th>2</th>\n",
              "      <td>Paris</td>\n",
              "      <td>FR</td>\n",
              "      <td>2019-06-20 22:00:00+00:00</td>\n",
              "      <td>FR04014</td>\n",
              "      <td>no2</td>\n",
              "      <td>26.5</td>\n",
              "      <td>µg/m³</td>\n",
              "      <td>702.25</td>\n",
              "      <td>2019-06-20</td>\n",
              "    </tr>\n",
              "    <tr>\n",
              "      <th>3</th>\n",
              "      <td>Paris</td>\n",
              "      <td>FR</td>\n",
              "      <td>2019-06-20 21:00:00+00:00</td>\n",
              "      <td>FR04014</td>\n",
              "      <td>no2</td>\n",
              "      <td>24.9</td>\n",
              "      <td>µg/m³</td>\n",
              "      <td>620.01</td>\n",
              "      <td>2019-06-20</td>\n",
              "    </tr>\n",
              "    <tr>\n",
              "      <th>4</th>\n",
              "      <td>Paris</td>\n",
              "      <td>FR</td>\n",
              "      <td>2019-06-20 20:00:00+00:00</td>\n",
              "      <td>FR04014</td>\n",
              "      <td>no2</td>\n",
              "      <td>21.4</td>\n",
              "      <td>µg/m³</td>\n",
              "      <td>457.96</td>\n",
              "      <td>2019-06-20</td>\n",
              "    </tr>\n",
              "    <tr>\n",
              "      <th>...</th>\n",
              "      <td>...</td>\n",
              "      <td>...</td>\n",
              "      <td>...</td>\n",
              "      <td>...</td>\n",
              "      <td>...</td>\n",
              "      <td>...</td>\n",
              "      <td>...</td>\n",
              "      <td>...</td>\n",
              "      <td>...</td>\n",
              "    </tr>\n",
              "    <tr>\n",
              "      <th>2063</th>\n",
              "      <td>London</td>\n",
              "      <td>GB</td>\n",
              "      <td>2019-05-07 06:00:00+00:00</td>\n",
              "      <td>London Westminster</td>\n",
              "      <td>no2</td>\n",
              "      <td>26.0</td>\n",
              "      <td>µg/m³</td>\n",
              "      <td>676.00</td>\n",
              "      <td>2019-05-07</td>\n",
              "    </tr>\n",
              "    <tr>\n",
              "      <th>2064</th>\n",
              "      <td>London</td>\n",
              "      <td>GB</td>\n",
              "      <td>2019-05-07 04:00:00+00:00</td>\n",
              "      <td>London Westminster</td>\n",
              "      <td>no2</td>\n",
              "      <td>16.0</td>\n",
              "      <td>µg/m³</td>\n",
              "      <td>256.00</td>\n",
              "      <td>2019-05-07</td>\n",
              "    </tr>\n",
              "    <tr>\n",
              "      <th>2065</th>\n",
              "      <td>London</td>\n",
              "      <td>GB</td>\n",
              "      <td>2019-05-07 03:00:00+00:00</td>\n",
              "      <td>London Westminster</td>\n",
              "      <td>no2</td>\n",
              "      <td>19.0</td>\n",
              "      <td>µg/m³</td>\n",
              "      <td>361.00</td>\n",
              "      <td>2019-05-07</td>\n",
              "    </tr>\n",
              "    <tr>\n",
              "      <th>2066</th>\n",
              "      <td>London</td>\n",
              "      <td>GB</td>\n",
              "      <td>2019-05-07 02:00:00+00:00</td>\n",
              "      <td>London Westminster</td>\n",
              "      <td>no2</td>\n",
              "      <td>19.0</td>\n",
              "      <td>µg/m³</td>\n",
              "      <td>361.00</td>\n",
              "      <td>2019-05-07</td>\n",
              "    </tr>\n",
              "    <tr>\n",
              "      <th>2067</th>\n",
              "      <td>London</td>\n",
              "      <td>GB</td>\n",
              "      <td>2019-05-07 01:00:00+00:00</td>\n",
              "      <td>London Westminster</td>\n",
              "      <td>no2</td>\n",
              "      <td>23.0</td>\n",
              "      <td>µg/m³</td>\n",
              "      <td>529.00</td>\n",
              "      <td>2019-05-07</td>\n",
              "    </tr>\n",
              "  </tbody>\n",
              "</table>\n",
              "<p>2068 rows × 9 columns</p>\n",
              "</div>\n",
              "      <button class=\"colab-df-convert\" onclick=\"convertToInteractive('df-9e1b65ae-6432-4855-8630-9b490c490660')\"\n",
              "              title=\"Convert this dataframe to an interactive table.\"\n",
              "              style=\"display:none;\">\n",
              "        \n",
              "  <svg xmlns=\"http://www.w3.org/2000/svg\" height=\"24px\"viewBox=\"0 0 24 24\"\n",
              "       width=\"24px\">\n",
              "    <path d=\"M0 0h24v24H0V0z\" fill=\"none\"/>\n",
              "    <path d=\"M18.56 5.44l.94 2.06.94-2.06 2.06-.94-2.06-.94-.94-2.06-.94 2.06-2.06.94zm-11 1L8.5 8.5l.94-2.06 2.06-.94-2.06-.94L8.5 2.5l-.94 2.06-2.06.94zm10 10l.94 2.06.94-2.06 2.06-.94-2.06-.94-.94-2.06-.94 2.06-2.06.94z\"/><path d=\"M17.41 7.96l-1.37-1.37c-.4-.4-.92-.59-1.43-.59-.52 0-1.04.2-1.43.59L10.3 9.45l-7.72 7.72c-.78.78-.78 2.05 0 2.83L4 21.41c.39.39.9.59 1.41.59.51 0 1.02-.2 1.41-.59l7.78-7.78 2.81-2.81c.8-.78.8-2.07 0-2.86zM5.41 20L4 18.59l7.72-7.72 1.47 1.35L5.41 20z\"/>\n",
              "  </svg>\n",
              "      </button>\n",
              "      \n",
              "  <style>\n",
              "    .colab-df-container {\n",
              "      display:flex;\n",
              "      flex-wrap:wrap;\n",
              "      gap: 12px;\n",
              "    }\n",
              "\n",
              "    .colab-df-convert {\n",
              "      background-color: #E8F0FE;\n",
              "      border: none;\n",
              "      border-radius: 50%;\n",
              "      cursor: pointer;\n",
              "      display: none;\n",
              "      fill: #1967D2;\n",
              "      height: 32px;\n",
              "      padding: 0 0 0 0;\n",
              "      width: 32px;\n",
              "    }\n",
              "\n",
              "    .colab-df-convert:hover {\n",
              "      background-color: #E2EBFA;\n",
              "      box-shadow: 0px 1px 2px rgba(60, 64, 67, 0.3), 0px 1px 3px 1px rgba(60, 64, 67, 0.15);\n",
              "      fill: #174EA6;\n",
              "    }\n",
              "\n",
              "    [theme=dark] .colab-df-convert {\n",
              "      background-color: #3B4455;\n",
              "      fill: #D2E3FC;\n",
              "    }\n",
              "\n",
              "    [theme=dark] .colab-df-convert:hover {\n",
              "      background-color: #434B5C;\n",
              "      box-shadow: 0px 1px 3px 1px rgba(0, 0, 0, 0.15);\n",
              "      filter: drop-shadow(0px 1px 2px rgba(0, 0, 0, 0.3));\n",
              "      fill: #FFFFFF;\n",
              "    }\n",
              "  </style>\n",
              "\n",
              "      <script>\n",
              "        const buttonEl =\n",
              "          document.querySelector('#df-9e1b65ae-6432-4855-8630-9b490c490660 button.colab-df-convert');\n",
              "        buttonEl.style.display =\n",
              "          google.colab.kernel.accessAllowed ? 'block' : 'none';\n",
              "\n",
              "        async function convertToInteractive(key) {\n",
              "          const element = document.querySelector('#df-9e1b65ae-6432-4855-8630-9b490c490660');\n",
              "          const dataTable =\n",
              "            await google.colab.kernel.invokeFunction('convertToInteractive',\n",
              "                                                     [key], {});\n",
              "          if (!dataTable) return;\n",
              "\n",
              "          const docLinkHtml = 'Like what you see? Visit the ' +\n",
              "            '<a target=\"_blank\" href=https://colab.research.google.com/notebooks/data_table.ipynb>data table notebook</a>'\n",
              "            + ' to learn more about interactive tables.';\n",
              "          element.innerHTML = '';\n",
              "          dataTable['output_type'] = 'display_data';\n",
              "          await google.colab.output.renderOutput(dataTable, element);\n",
              "          const docLink = document.createElement('div');\n",
              "          docLink.innerHTML = docLinkHtml;\n",
              "          element.appendChild(docLink);\n",
              "        }\n",
              "      </script>\n",
              "    </div>\n",
              "  </div>\n",
              "  "
            ]
          },
          "metadata": {},
          "execution_count": 29
        }
      ]
    },
    {
      "cell_type": "markdown",
      "source": [
        "## 3.3. Using Apply with built-in functions"
      ],
      "metadata": {
        "id": "UeljpP5j-bZY"
      }
    },
    {
      "cell_type": "markdown",
      "source": [
        "### Indeed it is possible to use apply with python built-in functions"
      ],
      "metadata": {
        "id": "DMWAB945-bZZ"
      }
    },
    {
      "cell_type": "code",
      "source": [
        "air_quality_no2['value'].apply(np.sqrt)"
      ],
      "metadata": {
        "trusted": true,
        "id": "5yDzdiXt-bZZ",
        "outputId": "a247ed9f-9570-4b28-ae24-c5895c8158fd",
        "colab": {
          "base_uri": "https://localhost:8080/"
        }
      },
      "execution_count": 30,
      "outputs": [
        {
          "output_type": "execute_result",
          "data": {
            "text/plain": [
              "0       4.472136\n",
              "1       4.669047\n",
              "2       5.147815\n",
              "3       4.989990\n",
              "4       4.626013\n",
              "          ...   \n",
              "2063    5.099020\n",
              "2064    4.000000\n",
              "2065    4.358899\n",
              "2066    4.358899\n",
              "2067    4.795832\n",
              "Name: value, Length: 2068, dtype: float64"
            ]
          },
          "metadata": {},
          "execution_count": 30
        }
      ]
    },
    {
      "cell_type": "code",
      "source": [
        "air_quality_no2['squared']=air_quality_no2['value'].apply(np.sqrt)"
      ],
      "metadata": {
        "trusted": true,
        "id": "Ew7VRCA3-bZZ"
      },
      "execution_count": 31,
      "outputs": []
    },
    {
      "cell_type": "code",
      "source": [
        "air_quality_no2"
      ],
      "metadata": {
        "trusted": true,
        "id": "cxijT4nm-bZZ",
        "outputId": "ba74cae8-0be7-4b99-b84e-7d7a5818657d",
        "colab": {
          "base_uri": "https://localhost:8080/",
          "height": 424
        }
      },
      "execution_count": 32,
      "outputs": [
        {
          "output_type": "execute_result",
          "data": {
            "text/plain": [
              "        city country                   date.utc            location parameter  \\\n",
              "0      Paris      FR  2019-06-21 00:00:00+00:00             FR04014       no2   \n",
              "1      Paris      FR  2019-06-20 23:00:00+00:00             FR04014       no2   \n",
              "2      Paris      FR  2019-06-20 22:00:00+00:00             FR04014       no2   \n",
              "3      Paris      FR  2019-06-20 21:00:00+00:00             FR04014       no2   \n",
              "4      Paris      FR  2019-06-20 20:00:00+00:00             FR04014       no2   \n",
              "...      ...     ...                        ...                 ...       ...   \n",
              "2063  London      GB  2019-05-07 06:00:00+00:00  London Westminster       no2   \n",
              "2064  London      GB  2019-05-07 04:00:00+00:00  London Westminster       no2   \n",
              "2065  London      GB  2019-05-07 03:00:00+00:00  London Westminster       no2   \n",
              "2066  London      GB  2019-05-07 02:00:00+00:00  London Westminster       no2   \n",
              "2067  London      GB  2019-05-07 01:00:00+00:00  London Westminster       no2   \n",
              "\n",
              "      value   unit  powered        date   squared  \n",
              "0      20.0  µg/m³   400.00  2019-06-21  4.472136  \n",
              "1      21.8  µg/m³   475.24  2019-06-20  4.669047  \n",
              "2      26.5  µg/m³   702.25  2019-06-20  5.147815  \n",
              "3      24.9  µg/m³   620.01  2019-06-20  4.989990  \n",
              "4      21.4  µg/m³   457.96  2019-06-20  4.626013  \n",
              "...     ...    ...      ...         ...       ...  \n",
              "2063   26.0  µg/m³   676.00  2019-05-07  5.099020  \n",
              "2064   16.0  µg/m³   256.00  2019-05-07  4.000000  \n",
              "2065   19.0  µg/m³   361.00  2019-05-07  4.358899  \n",
              "2066   19.0  µg/m³   361.00  2019-05-07  4.358899  \n",
              "2067   23.0  µg/m³   529.00  2019-05-07  4.795832  \n",
              "\n",
              "[2068 rows x 10 columns]"
            ],
            "text/html": [
              "\n",
              "  <div id=\"df-d7eeacdc-ab1d-4694-95b0-68e5a0605671\">\n",
              "    <div class=\"colab-df-container\">\n",
              "      <div>\n",
              "<style scoped>\n",
              "    .dataframe tbody tr th:only-of-type {\n",
              "        vertical-align: middle;\n",
              "    }\n",
              "\n",
              "    .dataframe tbody tr th {\n",
              "        vertical-align: top;\n",
              "    }\n",
              "\n",
              "    .dataframe thead th {\n",
              "        text-align: right;\n",
              "    }\n",
              "</style>\n",
              "<table border=\"1\" class=\"dataframe\">\n",
              "  <thead>\n",
              "    <tr style=\"text-align: right;\">\n",
              "      <th></th>\n",
              "      <th>city</th>\n",
              "      <th>country</th>\n",
              "      <th>date.utc</th>\n",
              "      <th>location</th>\n",
              "      <th>parameter</th>\n",
              "      <th>value</th>\n",
              "      <th>unit</th>\n",
              "      <th>powered</th>\n",
              "      <th>date</th>\n",
              "      <th>squared</th>\n",
              "    </tr>\n",
              "  </thead>\n",
              "  <tbody>\n",
              "    <tr>\n",
              "      <th>0</th>\n",
              "      <td>Paris</td>\n",
              "      <td>FR</td>\n",
              "      <td>2019-06-21 00:00:00+00:00</td>\n",
              "      <td>FR04014</td>\n",
              "      <td>no2</td>\n",
              "      <td>20.0</td>\n",
              "      <td>µg/m³</td>\n",
              "      <td>400.00</td>\n",
              "      <td>2019-06-21</td>\n",
              "      <td>4.472136</td>\n",
              "    </tr>\n",
              "    <tr>\n",
              "      <th>1</th>\n",
              "      <td>Paris</td>\n",
              "      <td>FR</td>\n",
              "      <td>2019-06-20 23:00:00+00:00</td>\n",
              "      <td>FR04014</td>\n",
              "      <td>no2</td>\n",
              "      <td>21.8</td>\n",
              "      <td>µg/m³</td>\n",
              "      <td>475.24</td>\n",
              "      <td>2019-06-20</td>\n",
              "      <td>4.669047</td>\n",
              "    </tr>\n",
              "    <tr>\n",
              "      <th>2</th>\n",
              "      <td>Paris</td>\n",
              "      <td>FR</td>\n",
              "      <td>2019-06-20 22:00:00+00:00</td>\n",
              "      <td>FR04014</td>\n",
              "      <td>no2</td>\n",
              "      <td>26.5</td>\n",
              "      <td>µg/m³</td>\n",
              "      <td>702.25</td>\n",
              "      <td>2019-06-20</td>\n",
              "      <td>5.147815</td>\n",
              "    </tr>\n",
              "    <tr>\n",
              "      <th>3</th>\n",
              "      <td>Paris</td>\n",
              "      <td>FR</td>\n",
              "      <td>2019-06-20 21:00:00+00:00</td>\n",
              "      <td>FR04014</td>\n",
              "      <td>no2</td>\n",
              "      <td>24.9</td>\n",
              "      <td>µg/m³</td>\n",
              "      <td>620.01</td>\n",
              "      <td>2019-06-20</td>\n",
              "      <td>4.989990</td>\n",
              "    </tr>\n",
              "    <tr>\n",
              "      <th>4</th>\n",
              "      <td>Paris</td>\n",
              "      <td>FR</td>\n",
              "      <td>2019-06-20 20:00:00+00:00</td>\n",
              "      <td>FR04014</td>\n",
              "      <td>no2</td>\n",
              "      <td>21.4</td>\n",
              "      <td>µg/m³</td>\n",
              "      <td>457.96</td>\n",
              "      <td>2019-06-20</td>\n",
              "      <td>4.626013</td>\n",
              "    </tr>\n",
              "    <tr>\n",
              "      <th>...</th>\n",
              "      <td>...</td>\n",
              "      <td>...</td>\n",
              "      <td>...</td>\n",
              "      <td>...</td>\n",
              "      <td>...</td>\n",
              "      <td>...</td>\n",
              "      <td>...</td>\n",
              "      <td>...</td>\n",
              "      <td>...</td>\n",
              "      <td>...</td>\n",
              "    </tr>\n",
              "    <tr>\n",
              "      <th>2063</th>\n",
              "      <td>London</td>\n",
              "      <td>GB</td>\n",
              "      <td>2019-05-07 06:00:00+00:00</td>\n",
              "      <td>London Westminster</td>\n",
              "      <td>no2</td>\n",
              "      <td>26.0</td>\n",
              "      <td>µg/m³</td>\n",
              "      <td>676.00</td>\n",
              "      <td>2019-05-07</td>\n",
              "      <td>5.099020</td>\n",
              "    </tr>\n",
              "    <tr>\n",
              "      <th>2064</th>\n",
              "      <td>London</td>\n",
              "      <td>GB</td>\n",
              "      <td>2019-05-07 04:00:00+00:00</td>\n",
              "      <td>London Westminster</td>\n",
              "      <td>no2</td>\n",
              "      <td>16.0</td>\n",
              "      <td>µg/m³</td>\n",
              "      <td>256.00</td>\n",
              "      <td>2019-05-07</td>\n",
              "      <td>4.000000</td>\n",
              "    </tr>\n",
              "    <tr>\n",
              "      <th>2065</th>\n",
              "      <td>London</td>\n",
              "      <td>GB</td>\n",
              "      <td>2019-05-07 03:00:00+00:00</td>\n",
              "      <td>London Westminster</td>\n",
              "      <td>no2</td>\n",
              "      <td>19.0</td>\n",
              "      <td>µg/m³</td>\n",
              "      <td>361.00</td>\n",
              "      <td>2019-05-07</td>\n",
              "      <td>4.358899</td>\n",
              "    </tr>\n",
              "    <tr>\n",
              "      <th>2066</th>\n",
              "      <td>London</td>\n",
              "      <td>GB</td>\n",
              "      <td>2019-05-07 02:00:00+00:00</td>\n",
              "      <td>London Westminster</td>\n",
              "      <td>no2</td>\n",
              "      <td>19.0</td>\n",
              "      <td>µg/m³</td>\n",
              "      <td>361.00</td>\n",
              "      <td>2019-05-07</td>\n",
              "      <td>4.358899</td>\n",
              "    </tr>\n",
              "    <tr>\n",
              "      <th>2067</th>\n",
              "      <td>London</td>\n",
              "      <td>GB</td>\n",
              "      <td>2019-05-07 01:00:00+00:00</td>\n",
              "      <td>London Westminster</td>\n",
              "      <td>no2</td>\n",
              "      <td>23.0</td>\n",
              "      <td>µg/m³</td>\n",
              "      <td>529.00</td>\n",
              "      <td>2019-05-07</td>\n",
              "      <td>4.795832</td>\n",
              "    </tr>\n",
              "  </tbody>\n",
              "</table>\n",
              "<p>2068 rows × 10 columns</p>\n",
              "</div>\n",
              "      <button class=\"colab-df-convert\" onclick=\"convertToInteractive('df-d7eeacdc-ab1d-4694-95b0-68e5a0605671')\"\n",
              "              title=\"Convert this dataframe to an interactive table.\"\n",
              "              style=\"display:none;\">\n",
              "        \n",
              "  <svg xmlns=\"http://www.w3.org/2000/svg\" height=\"24px\"viewBox=\"0 0 24 24\"\n",
              "       width=\"24px\">\n",
              "    <path d=\"M0 0h24v24H0V0z\" fill=\"none\"/>\n",
              "    <path d=\"M18.56 5.44l.94 2.06.94-2.06 2.06-.94-2.06-.94-.94-2.06-.94 2.06-2.06.94zm-11 1L8.5 8.5l.94-2.06 2.06-.94-2.06-.94L8.5 2.5l-.94 2.06-2.06.94zm10 10l.94 2.06.94-2.06 2.06-.94-2.06-.94-.94-2.06-.94 2.06-2.06.94z\"/><path d=\"M17.41 7.96l-1.37-1.37c-.4-.4-.92-.59-1.43-.59-.52 0-1.04.2-1.43.59L10.3 9.45l-7.72 7.72c-.78.78-.78 2.05 0 2.83L4 21.41c.39.39.9.59 1.41.59.51 0 1.02-.2 1.41-.59l7.78-7.78 2.81-2.81c.8-.78.8-2.07 0-2.86zM5.41 20L4 18.59l7.72-7.72 1.47 1.35L5.41 20z\"/>\n",
              "  </svg>\n",
              "      </button>\n",
              "      \n",
              "  <style>\n",
              "    .colab-df-container {\n",
              "      display:flex;\n",
              "      flex-wrap:wrap;\n",
              "      gap: 12px;\n",
              "    }\n",
              "\n",
              "    .colab-df-convert {\n",
              "      background-color: #E8F0FE;\n",
              "      border: none;\n",
              "      border-radius: 50%;\n",
              "      cursor: pointer;\n",
              "      display: none;\n",
              "      fill: #1967D2;\n",
              "      height: 32px;\n",
              "      padding: 0 0 0 0;\n",
              "      width: 32px;\n",
              "    }\n",
              "\n",
              "    .colab-df-convert:hover {\n",
              "      background-color: #E2EBFA;\n",
              "      box-shadow: 0px 1px 2px rgba(60, 64, 67, 0.3), 0px 1px 3px 1px rgba(60, 64, 67, 0.15);\n",
              "      fill: #174EA6;\n",
              "    }\n",
              "\n",
              "    [theme=dark] .colab-df-convert {\n",
              "      background-color: #3B4455;\n",
              "      fill: #D2E3FC;\n",
              "    }\n",
              "\n",
              "    [theme=dark] .colab-df-convert:hover {\n",
              "      background-color: #434B5C;\n",
              "      box-shadow: 0px 1px 3px 1px rgba(0, 0, 0, 0.15);\n",
              "      filter: drop-shadow(0px 1px 2px rgba(0, 0, 0, 0.3));\n",
              "      fill: #FFFFFF;\n",
              "    }\n",
              "  </style>\n",
              "\n",
              "      <script>\n",
              "        const buttonEl =\n",
              "          document.querySelector('#df-d7eeacdc-ab1d-4694-95b0-68e5a0605671 button.colab-df-convert');\n",
              "        buttonEl.style.display =\n",
              "          google.colab.kernel.accessAllowed ? 'block' : 'none';\n",
              "\n",
              "        async function convertToInteractive(key) {\n",
              "          const element = document.querySelector('#df-d7eeacdc-ab1d-4694-95b0-68e5a0605671');\n",
              "          const dataTable =\n",
              "            await google.colab.kernel.invokeFunction('convertToInteractive',\n",
              "                                                     [key], {});\n",
              "          if (!dataTable) return;\n",
              "\n",
              "          const docLinkHtml = 'Like what you see? Visit the ' +\n",
              "            '<a target=\"_blank\" href=https://colab.research.google.com/notebooks/data_table.ipynb>data table notebook</a>'\n",
              "            + ' to learn more about interactive tables.';\n",
              "          element.innerHTML = '';\n",
              "          dataTable['output_type'] = 'display_data';\n",
              "          await google.colab.output.renderOutput(dataTable, element);\n",
              "          const docLink = document.createElement('div');\n",
              "          docLink.innerHTML = docLinkHtml;\n",
              "          element.appendChild(docLink);\n",
              "        }\n",
              "      </script>\n",
              "    </div>\n",
              "  </div>\n",
              "  "
            ]
          },
          "metadata": {},
          "execution_count": 32
        }
      ]
    },
    {
      "cell_type": "markdown",
      "source": [
        "## 3.4. Using apply with lambda functions"
      ],
      "metadata": {
        "id": "z0G9cuFN-bZZ"
      }
    },
    {
      "cell_type": "code",
      "source": [
        "# Let's extract year, month and day from date.utc column \n",
        "air_quality_no2['date'].apply(lambda date:date[0:10])"
      ],
      "metadata": {
        "trusted": true,
        "id": "Yx_7lTjf-bZZ",
        "outputId": "d2b8c9dc-2d0e-4320-8418-17c7e3406c57",
        "colab": {
          "base_uri": "https://localhost:8080/"
        }
      },
      "execution_count": 33,
      "outputs": [
        {
          "output_type": "execute_result",
          "data": {
            "text/plain": [
              "0       2019-06-21\n",
              "1       2019-06-20\n",
              "2       2019-06-20\n",
              "3       2019-06-20\n",
              "4       2019-06-20\n",
              "           ...    \n",
              "2063    2019-05-07\n",
              "2064    2019-05-07\n",
              "2065    2019-05-07\n",
              "2066    2019-05-07\n",
              "2067    2019-05-07\n",
              "Name: date, Length: 2068, dtype: object"
            ]
          },
          "metadata": {},
          "execution_count": 33
        }
      ]
    },
    {
      "cell_type": "code",
      "source": [
        ""
      ],
      "metadata": {
        "id": "lA-HSA7L-bZZ"
      },
      "execution_count": 33,
      "outputs": []
    },
    {
      "cell_type": "code",
      "source": [
        "air_quality_no2['value'].apply(lambda value:value**2)"
      ],
      "metadata": {
        "trusted": true,
        "id": "5v4hCzbq-bZZ",
        "outputId": "8d022191-b6a3-4559-b7ed-2cf50d7a13e6",
        "colab": {
          "base_uri": "https://localhost:8080/"
        }
      },
      "execution_count": 34,
      "outputs": [
        {
          "output_type": "execute_result",
          "data": {
            "text/plain": [
              "0       400.00\n",
              "1       475.24\n",
              "2       702.25\n",
              "3       620.01\n",
              "4       457.96\n",
              "         ...  \n",
              "2063    676.00\n",
              "2064    256.00\n",
              "2065    361.00\n",
              "2066    361.00\n",
              "2067    529.00\n",
              "Name: value, Length: 2068, dtype: float64"
            ]
          },
          "metadata": {},
          "execution_count": 34
        }
      ]
    },
    {
      "cell_type": "code",
      "source": [
        ""
      ],
      "metadata": {
        "id": "e-OVCdan-bZa"
      },
      "execution_count": 34,
      "outputs": []
    },
    {
      "cell_type": "code",
      "source": [
        ""
      ],
      "metadata": {
        "id": "Socaptl--bZa"
      },
      "execution_count": 34,
      "outputs": []
    },
    {
      "cell_type": "code",
      "source": [
        ""
      ],
      "metadata": {
        "id": "6ftFAgEE-bZa"
      },
      "execution_count": 34,
      "outputs": []
    }
  ]
}