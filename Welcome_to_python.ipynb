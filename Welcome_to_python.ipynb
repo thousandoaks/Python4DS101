{
  "nbformat": 4,
  "nbformat_minor": 0,
  "metadata": {
    "colab": {
      "name": "Welcome_to_python.ipynb",
      "provenance": [],
      "toc_visible": true,
      "include_colab_link": true
    },
    "kernelspec": {
      "name": "python3",
      "display_name": "Python 3"
    }
  },
  "cells": [
    {
      "cell_type": "markdown",
      "metadata": {
        "id": "view-in-github",
        "colab_type": "text"
      },
      "source": [
        "<a href=\"https://colab.research.google.com/github/thousandoaks/Python4DS101/blob/master/Welcome_to_python.ipynb\" target=\"_parent\"><img src=\"https://colab.research.google.com/assets/colab-badge.svg\" alt=\"Open In Colab\"/></a>"
      ]
    },
    {
      "cell_type": "markdown",
      "metadata": {
        "id": "juxsdVgb45cy"
      },
      "source": [
        "# **Python concepts**\n",
        "\n"
      ]
    },
    {
      "cell_type": "markdown",
      "metadata": {
        "id": "z6_bOKFN5KNn"
      },
      "source": [
        "# 1. Variables\n",
        "\n",
        "A variable is a name that refers to a value"
      ]
    },
    {
      "cell_type": "code",
      "metadata": {
        "id": "q7v0zroN5KNr"
      },
      "source": [
        "x = 3       #We define a numeric variable\n",
        "\n"
      ],
      "execution_count": 5,
      "outputs": []
    },
    {
      "cell_type": "code",
      "source": [
        "x           # We check the value of the new variable\n"
      ],
      "metadata": {
        "colab": {
          "base_uri": "https://localhost:8080/"
        },
        "id": "iDhVlx2O1KTw",
        "outputId": "c776410b-13ec-40f6-f199-5e137e33b8b9"
      },
      "execution_count": 20,
      "outputs": [
        {
          "output_type": "execute_result",
          "data": {
            "text/plain": [
              "4.345"
            ]
          },
          "metadata": {},
          "execution_count": 20
        }
      ]
    },
    {
      "cell_type": "code",
      "metadata": {
        "id": "aGeggUoa5KNz"
      },
      "source": [
        "y = 4.345         # We define a float variable\n"
      ],
      "execution_count": 21,
      "outputs": []
    },
    {
      "cell_type": "code",
      "source": [
        "y           # We check the value of the new variable"
      ],
      "metadata": {
        "colab": {
          "base_uri": "https://localhost:8080/"
        },
        "id": "zmQE9l_G0493",
        "outputId": "f1856656-bde4-4985-9656-d223d8c9ac89"
      },
      "execution_count": 9,
      "outputs": [
        {
          "output_type": "execute_result",
          "data": {
            "text/plain": [
              "4.345"
            ]
          },
          "metadata": {},
          "execution_count": 9
        }
      ]
    },
    {
      "cell_type": "code",
      "source": [
        "pi=3.141592"
      ],
      "metadata": {
        "id": "aiON3zwH3fol"
      },
      "execution_count": 30,
      "outputs": []
    },
    {
      "cell_type": "code",
      "source": [
        "textExample=\"Hi there,\" # We define a string variable\n"
      ],
      "metadata": {
        "id": "dWGowMgP05Fn"
      },
      "execution_count": 28,
      "outputs": []
    },
    {
      "cell_type": "code",
      "source": [
        "textExample"
      ],
      "metadata": {
        "id": "fAon2eAh1ple"
      },
      "execution_count": null,
      "outputs": []
    },
    {
      "cell_type": "code",
      "source": [
        "textExample2=\" How are things on your side ?\""
      ],
      "metadata": {
        "id": "TSGGXCPS1FMV"
      },
      "execution_count": 26,
      "outputs": []
    },
    {
      "cell_type": "code",
      "source": [
        "textExample2"
      ],
      "metadata": {
        "colab": {
          "base_uri": "https://localhost:8080/",
          "height": 35
        },
        "id": "5BqiEulz1bee",
        "outputId": "4f89e6bd-91fe-47bc-a2c6-9eafdf3d6391"
      },
      "execution_count": 14,
      "outputs": [
        {
          "output_type": "execute_result",
          "data": {
            "text/plain": [
              "'How are things on your side ?'"
            ],
            "application/vnd.google.colaboratory.intrinsic+json": {
              "type": "string"
            }
          },
          "metadata": {},
          "execution_count": 14
        }
      ]
    },
    {
      "cell_type": "code",
      "source": [
        "listofFruits=['orange','grape','banana','watermelon','kiwi']"
      ],
      "metadata": {
        "id": "urSet6W_1bhG"
      },
      "execution_count": 15,
      "outputs": []
    },
    {
      "cell_type": "code",
      "source": [
        "listofFruits"
      ],
      "metadata": {
        "colab": {
          "base_uri": "https://localhost:8080/"
        },
        "id": "PmPfptlA1bjP",
        "outputId": "b43785be-5f76-4e13-b5d1-88ccdd9ba559"
      },
      "execution_count": 16,
      "outputs": [
        {
          "output_type": "execute_result",
          "data": {
            "text/plain": [
              "['orange', 'grape', 'banana', 'watermelon', 'kiwi']"
            ]
          },
          "metadata": {},
          "execution_count": 16
        }
      ]
    },
    {
      "cell_type": "code",
      "source": [
        "matrixExample=[[1,2,3,4],[5,6,7,8]]"
      ],
      "metadata": {
        "id": "ywLC4b__18nM"
      },
      "execution_count": 17,
      "outputs": []
    },
    {
      "cell_type": "code",
      "source": [
        "matrixExample"
      ],
      "metadata": {
        "colab": {
          "base_uri": "https://localhost:8080/"
        },
        "id": "13sdydZN2Dyk",
        "outputId": "2f06e8ab-2ea0-4eb5-91e9-ba5632d13f27"
      },
      "execution_count": 18,
      "outputs": [
        {
          "output_type": "execute_result",
          "data": {
            "text/plain": [
              "[[1, 2, 3, 4], [5, 6, 7, 8]]"
            ]
          },
          "metadata": {},
          "execution_count": 18
        }
      ]
    },
    {
      "cell_type": "code",
      "source": [
        ""
      ],
      "metadata": {
        "id": "FUZiWfFu3q3o"
      },
      "execution_count": null,
      "outputs": []
    },
    {
      "cell_type": "markdown",
      "metadata": {
        "id": "_fTJJTvs5KN-"
      },
      "source": [
        "## 2. Statements\n",
        "\n",
        "Statements are bits of code that have an effect, for instance add to numbers, plot a graph, print something, send an email, save some data, etc."
      ]
    },
    {
      "cell_type": "code",
      "metadata": {
        "id": "0bEZWlr35KOA",
        "colab": {
          "base_uri": "https://localhost:8080/"
        },
        "outputId": "67e42754-9d8e-49bf-b1ce-e65f6b9fe200"
      },
      "source": [
        "x+y"
      ],
      "execution_count": 22,
      "outputs": [
        {
          "output_type": "execute_result",
          "data": {
            "text/plain": [
              "8.69"
            ]
          },
          "metadata": {},
          "execution_count": 22
        }
      ]
    },
    {
      "cell_type": "code",
      "source": [
        "additionVariable=x+y    #we add x and y, then we save the result in a new variable"
      ],
      "metadata": {
        "id": "UiNiO9Jd2pHd"
      },
      "execution_count": 23,
      "outputs": []
    },
    {
      "cell_type": "code",
      "source": [
        "additionVariable"
      ],
      "metadata": {
        "colab": {
          "base_uri": "https://localhost:8080/"
        },
        "id": "uK3hRLu42ufp",
        "outputId": "f2c96b4e-24ba-41d5-ad30-cde4787cadd7"
      },
      "execution_count": 24,
      "outputs": [
        {
          "output_type": "execute_result",
          "data": {
            "text/plain": [
              "8.69"
            ]
          },
          "metadata": {},
          "execution_count": 24
        }
      ]
    },
    {
      "cell_type": "code",
      "source": [
        "textExample+textExample2"
      ],
      "metadata": {
        "colab": {
          "base_uri": "https://localhost:8080/",
          "height": 35
        },
        "id": "rg8GWsR92075",
        "outputId": "fbccba2c-f0e0-4c7a-ad7e-3cf60b9bf30e"
      },
      "execution_count": 29,
      "outputs": [
        {
          "output_type": "execute_result",
          "data": {
            "text/plain": [
              "'Hi there, How are things on your side ?'"
            ],
            "application/vnd.google.colaboratory.intrinsic+json": {
              "type": "string"
            }
          },
          "metadata": {},
          "execution_count": 29
        }
      ]
    },
    {
      "cell_type": "code",
      "source": [
        "x*y     # we multiply"
      ],
      "metadata": {
        "colab": {
          "base_uri": "https://localhost:8080/"
        },
        "id": "pugftHtP205h",
        "outputId": "ae2579e8-5a64-43ce-ba7e-2698ad10f24f"
      },
      "execution_count": 32,
      "outputs": [
        {
          "output_type": "execute_result",
          "data": {
            "text/plain": [
              "18.879025"
            ]
          },
          "metadata": {},
          "execution_count": 32
        }
      ]
    },
    {
      "cell_type": "code",
      "source": [
        "x**y      # we raise x to the power of y"
      ],
      "metadata": {
        "colab": {
          "base_uri": "https://localhost:8080/"
        },
        "id": "-iivrFc5203L",
        "outputId": "f00fbcab-a443-495e-b742-1f705a9dd973"
      },
      "execution_count": 33,
      "outputs": [
        {
          "output_type": "execute_result",
          "data": {
            "text/plain": [
              "591.6509926690377"
            ]
          },
          "metadata": {},
          "execution_count": 33
        }
      ]
    },
    {
      "cell_type": "code",
      "source": [
        "print(x)      # we display x"
      ],
      "metadata": {
        "colab": {
          "base_uri": "https://localhost:8080/"
        },
        "id": "QQt09Yu92004",
        "outputId": "d7ad28db-b017-4261-96b2-e5e30da88688"
      },
      "execution_count": 34,
      "outputs": [
        {
          "output_type": "stream",
          "name": "stdout",
          "text": [
            "4.345\n"
          ]
        }
      ]
    },
    {
      "cell_type": "code",
      "source": [
        "print(textExample+textExample2)"
      ],
      "metadata": {
        "colab": {
          "base_uri": "https://localhost:8080/"
        },
        "id": "zMxsJeCA20yg",
        "outputId": "0c789eaf-c7ce-4cf2-b1a2-e354e3e9ccab"
      },
      "execution_count": 35,
      "outputs": [
        {
          "output_type": "stream",
          "name": "stdout",
          "text": [
            "Hi there, How are things on your side ?\n"
          ]
        }
      ]
    },
    {
      "cell_type": "code",
      "source": [
        ""
      ],
      "metadata": {
        "id": "kq25qBxD20wD"
      },
      "execution_count": null,
      "outputs": []
    }
  ]
}