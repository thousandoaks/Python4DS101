{
  "cells": [
    {
      "cell_type": "markdown",
      "metadata": {
        "id": "view-in-github",
        "colab_type": "text"
      },
      "source": [
        "<a href=\"https://colab.research.google.com/github/thousandoaks/Python4DS101/blob/master/labs/Python_Basics.ipynb\" target=\"_parent\"><img src=\"https://colab.research.google.com/assets/colab-badge.svg\" alt=\"Open In Colab\"/></a>"
      ]
    },
    {
      "cell_type": "markdown",
      "metadata": {
        "nbpages": {
          "level": 1,
          "link": "[1.2 Python Basics](https://jckantor.github.io/CBE30338/01.02-Python-Basics.html#1.2-Python-Basics)",
          "section": "1.2 Python Basics"
        },
        "id": "nB20MeuOYonN"
      },
      "source": [
        "# Python Basics\n",
        "\n"
      ]
    },
    {
      "cell_type": "markdown",
      "metadata": {
        "nbpages": {
          "level": 2,
          "link": "[1.2.1 What I hope you'll get out of this tutorial](https://jckantor.github.io/CBE30338/01.02-Python-Basics.html#1.2.1-What-I-hope-you'll-get-out-of-this-tutorial)",
          "section": "1.2.1 What I hope you'll get out of this tutorial"
        },
        "id": "li0QS0FrYonN"
      },
      "source": [
        "##  What I hope you'll get out of this lab\n",
        "* The feeling that you'll \"know where to start\" when you see python code in lecture, or when you need to write python for an assignment.\n",
        "* (You won't be a python expert after one hour)\n",
        "* Basics to variables, lists, conditionals, functions, loops, and the numpy package.\n",
        "* Resources to look further"
      ]
    },
    {
      "cell_type": "markdown",
      "metadata": {
        "nbpages": {
          "level": 3,
          "link": "[1.2.1.1 Why Python?](https://jckantor.github.io/CBE30338/01.02-Python-Basics.html#1.2.1.1-Why-Python?)",
          "section": "1.2.1.1 Why Python?"
        },
        "id": "Ze0B6ddSYonN"
      },
      "source": [
        "### Why Python?\n",
        "\n",
        "1. Clean syntax\n",
        "2. The same code can run on all Operating Systems\n",
        "3. **Extensive first and third party libraries (of particular note for our purposes is NumPy)**"
      ]
    },
    {
      "cell_type": "markdown",
      "metadata": {
        "nbpages": {
          "level": 3,
          "link": "[1.2.1.2 Markdown Sidenote](https://jckantor.github.io/CBE30338/01.02-Python-Basics.html#1.2.1.2-Markdown-Sidenote)",
          "section": "1.2.1.2 Markdown Sidenote"
        },
        "id": "QpH51ThPYonO"
      },
      "source": [
        "### Markdown Sidenote\n",
        " * This text is written in a Markdown block. Markdown is straightforward way to format writeups in Jupyter, but I won't cover it here for the sake of brevity. \n",
        " * See if you can use Markdown in your next homework, here's a link that explains the formatting: https://daringfireball.net/projects/markdown/syntax . \n",
        " * You can also look at existing Markdown examples (i.e. this worksheet) and emulate the style. Double click a Markdown box in Jupyter to show the code.\n",
        " "
      ]
    },
    {
      "cell_type": "markdown",
      "source": [
        "---\n",
        "## Feel free to change the code and have it executed to see the results\n",
        "\n",
        "---"
      ],
      "metadata": {
        "id": "0MbYpWVxo5bD"
      }
    },
    {
      "cell_type": "markdown",
      "metadata": {
        "nbpages": {
          "level": 2,
          "link": "[1.2.2 Python Basics](https://jckantor.github.io/CBE30338/01.02-Python-Basics.html#1.2.2-Python-Basics)",
          "section": "1.2.2 Python Basics"
        },
        "id": "a827wOq5YonP"
      },
      "source": [
        "## Python Basics"
      ]
    },
    {
      "cell_type": "markdown",
      "metadata": {
        "nbpages": {
          "level": 3,
          "link": "[1.2.2.1 Variables](https://jckantor.github.io/CBE30338/01.02-Python-Basics.html#1.2.2.1-Variables)",
          "section": "1.2.2.1 Variables"
        },
        "id": "xu4whIdCYonP"
      },
      "source": [
        "###  Variables"
      ]
    },
    {
      "cell_type": "code",
      "execution_count": 1,
      "metadata": {
        "nbpages": {
          "level": 3,
          "link": "[1.2.2.1 Variables](https://jckantor.github.io/CBE30338/01.02-Python-Basics.html#1.2.2.1-Variables)",
          "section": "1.2.2.1 Variables"
        },
        "id": "f6NFE_13YonQ"
      },
      "outputs": [],
      "source": [
        "#A variable stores a piece of data and gives it a name\n",
        "answer = 42\n",
        "\n",
        "#answer contained an integer because we gave it an integer!\n",
        "\n",
        "\n",
        "\n",
        "pi_approx = 3.1415\n",
        "\n",
        "#This will be a floating point number, or a number containing digits after the decimal point\n",
        "\n",
        "my_name = \"Jacob \"\n",
        "#This is a string datatype, the name coming from a string of characters\n",
        "\n",
        "my_surname='Philips'\n",
        "\n"
      ]
    },
    {
      "cell_type": "code",
      "source": [
        "#p.s., we can print all of these with a print command. For Example:\n",
        "print(answer)\n",
        "print(pi_approx)\n",
        "print(my_name)\n",
        "print(my_name+my_surname)"
      ],
      "metadata": {
        "id": "mr_93PMpaxgG",
        "outputId": "02bb4cc2-5b9c-49a6-db8e-7345b2162305",
        "colab": {
          "base_uri": "https://localhost:8080/"
        }
      },
      "execution_count": 2,
      "outputs": [
        {
          "output_type": "stream",
          "name": "stdout",
          "text": [
            "42\n",
            "3.1415\n",
            "Jacob \n",
            "Jacob Philips\n"
          ]
        }
      ]
    },
    {
      "cell_type": "code",
      "source": [
        ""
      ],
      "metadata": {
        "id": "Gk7EbxGfbR8W"
      },
      "execution_count": 2,
      "outputs": []
    },
    {
      "cell_type": "code",
      "source": [
        ""
      ],
      "metadata": {
        "id": "XHPod1SRbSCN"
      },
      "execution_count": 2,
      "outputs": []
    },
    {
      "cell_type": "markdown",
      "metadata": {
        "nbpages": {
          "level": 3,
          "link": "[1.2.2.2 More Complicated Data Types](https://jckantor.github.io/CBE30338/01.02-Python-Basics.html#1.2.2.2-More-Complicated-Data-Types)",
          "section": "1.2.2.2 More Complicated Data Types"
        },
        "id": "b7cahkVPYonR"
      },
      "source": [
        "### More Complicated Data Types"
      ]
    },
    {
      "cell_type": "code",
      "source": [
        "#What if we want to store many integers? We need a list!\n",
        "prices = [10, 20, 30, 40, 50]\n",
        "\n",
        "#This is a way to define a list in place. We can also make an empty list and add to it.\n",
        "colors = []\n",
        "\n",
        "colors.append(\"Green\")\n",
        "colors.append(\"Blue\")\n",
        "colors.append(\"Red\")\n"
      ],
      "metadata": {
        "id": "daO3gmFmb1Ba"
      },
      "execution_count": 3,
      "outputs": []
    },
    {
      "cell_type": "code",
      "source": [
        "print(colors)\n"
      ],
      "metadata": {
        "id": "_vzHdObzb485",
        "outputId": "704514f2-5feb-4021-cb7d-fd568a28dde0",
        "colab": {
          "base_uri": "https://localhost:8080/"
        }
      },
      "execution_count": 4,
      "outputs": [
        {
          "output_type": "stream",
          "name": "stdout",
          "text": [
            "['Green', 'Blue', 'Red']\n"
          ]
        }
      ]
    },
    {
      "cell_type": "code",
      "source": [
        "print(prices)"
      ],
      "metadata": {
        "id": "2xfkAWRbb46R",
        "outputId": "73142d9d-9839-468b-ba80-7142ebc55bcc",
        "colab": {
          "base_uri": "https://localhost:8080/"
        }
      },
      "execution_count": 5,
      "outputs": [
        {
          "output_type": "stream",
          "name": "stdout",
          "text": [
            "[10, 20, 30, 40, 50]\n"
          ]
        }
      ]
    },
    {
      "cell_type": "code",
      "source": [
        "#We can access a specific element of a list too:\n",
        "\n",
        "print(colors[0])\n",
        "print(colors[2])"
      ],
      "metadata": {
        "id": "Uz2ZmSMvb43k",
        "outputId": "602b91e6-f479-4674-bbae-b1455665a5dd",
        "colab": {
          "base_uri": "https://localhost:8080/"
        }
      },
      "execution_count": 6,
      "outputs": [
        {
          "output_type": "stream",
          "name": "stdout",
          "text": [
            "Green\n",
            "Red\n"
          ]
        }
      ]
    },
    {
      "cell_type": "code",
      "source": [
        "print(prices[2])"
      ],
      "metadata": {
        "id": "G7GTEvXCcG5T",
        "outputId": "2f21e450-0990-48e5-9b60-e0e44f8007a2",
        "colab": {
          "base_uri": "https://localhost:8080/"
        }
      },
      "execution_count": 7,
      "outputs": [
        {
          "output_type": "stream",
          "name": "stdout",
          "text": [
            "30\n"
          ]
        }
      ]
    },
    {
      "cell_type": "code",
      "source": [
        "#We can also add another data to a list\n",
        "prices.append(60)"
      ],
      "metadata": {
        "id": "FKe7FY6TcODR"
      },
      "execution_count": 8,
      "outputs": []
    },
    {
      "cell_type": "code",
      "source": [
        "print(prices)"
      ],
      "metadata": {
        "id": "Osm9_eDtcUPR",
        "outputId": "6a1802b6-f85c-4b35-e675-d594bb3b4629",
        "colab": {
          "base_uri": "https://localhost:8080/"
        }
      },
      "execution_count": 9,
      "outputs": [
        {
          "output_type": "stream",
          "name": "stdout",
          "text": [
            "[10, 20, 30, 40, 50, 60]\n"
          ]
        }
      ]
    },
    {
      "cell_type": "markdown",
      "metadata": {
        "nbpages": {
          "level": 3,
          "link": "[1.2.2.3 Using Variables](https://jckantor.github.io/CBE30338/01.02-Python-Basics.html#1.2.2.3-Using-Variables)",
          "section": "1.2.2.3 Using Variables"
        },
        "id": "373BLyjLYonS"
      },
      "source": [
        "### Using Variables"
      ]
    },
    {
      "cell_type": "code",
      "execution_count": 10,
      "metadata": {
        "nbpages": {
          "level": 3,
          "link": "[1.2.2.3 Using Variables](https://jckantor.github.io/CBE30338/01.02-Python-Basics.html#1.2.2.3-Using-Variables)",
          "section": "1.2.2.3 Using Variables"
        },
        "scrolled": true,
        "id": "G1TxvTB2YonS",
        "outputId": "5ce6d5e6-3612-48c8-b75d-5161e7679ad1",
        "colab": {
          "base_uri": "https://localhost:8080/"
        }
      },
      "outputs": [
        {
          "output_type": "stream",
          "name": "stdout",
          "text": [
            "8.0\n",
            "3.5\n",
            "12.9375\n",
            "2.5555555555555554\n",
            "1\n"
          ]
        }
      ],
      "source": [
        "float1 = 5.75\n",
        "float2 = 2.25\n",
        "#Addition, subtraction, multiplication, division are as you expect\n",
        "\n",
        "print(float1 + float2)\n",
        "print(float1 - float2)\n",
        "print(float1 * float2)\n",
        "print(float1 / float2)\n",
        "\n",
        "#Here's an interesting one: Modulus: \n",
        "print(5 % 2)"
      ]
    },
    {
      "cell_type": "markdown",
      "metadata": {
        "nbpages": {
          "level": 3,
          "link": "[1.2.2.4 Importing in Python: Math and plotting](https://jckantor.github.io/CBE30338/01.02-Python-Basics.html#1.2.2.4-Importing-in-Python:-Math-and-plotting)",
          "section": "1.2.2.4 Importing in Python: Math and plotting"
        },
        "id": "SI9VoVPQYonT"
      },
      "source": [
        "### Importing in Python: Math and Numpy\n",
        "#### Usually you would need to import libraries to extend Python's capabilities. Following we import the math library, quite useful to perform more advanced calculations\n",
        "#### Refer to the following link for more information on the math library\n",
        "https://docs.python.org/3/library/math.html\n",
        "\n",
        "#### Refer to the following link for more information on the numpy library\n",
        "https://numpy.org/doc/stable/user/absolute_beginners.html\n"
      ]
    },
    {
      "cell_type": "code",
      "source": [
        "#Just about every standard math function on a calculator has a python equivalent pre made.\n",
        "#however, they are from the 'math' package in python. Let's add that package!\n",
        "\n",
        "import math"
      ],
      "metadata": {
        "id": "gqLk07vlcqzE"
      },
      "execution_count": 11,
      "outputs": []
    },
    {
      "cell_type": "code",
      "source": [
        "# We also want to add the numpy library\n",
        "import numpy"
      ],
      "metadata": {
        "id": "v-Qbg-48iu-_"
      },
      "execution_count": 12,
      "outputs": []
    },
    {
      "cell_type": "code",
      "source": [
        "number=25"
      ],
      "metadata": {
        "id": "Z05FlSOpcvIj"
      },
      "execution_count": 13,
      "outputs": []
    },
    {
      "cell_type": "code",
      "source": [
        "numberLog=math.log(number)"
      ],
      "metadata": {
        "id": "P9QBPVPEcvL4"
      },
      "execution_count": 14,
      "outputs": []
    },
    {
      "cell_type": "code",
      "source": [
        "print(numberLog)"
      ],
      "metadata": {
        "id": "qdWQA4CoeDin",
        "outputId": "9ec90911-c2ab-49d5-f111-27e6071006db",
        "colab": {
          "base_uri": "https://localhost:8080/"
        }
      },
      "execution_count": 15,
      "outputs": [
        {
          "output_type": "stream",
          "name": "stdout",
          "text": [
            "3.2188758248682006\n"
          ]
        }
      ]
    },
    {
      "cell_type": "code",
      "source": [
        "math.floor(35.4)"
      ],
      "metadata": {
        "id": "Epntx_cDeH2Q",
        "outputId": "1b66d54f-8f4e-4858-bf92-7ba3cc2f6558",
        "colab": {
          "base_uri": "https://localhost:8080/"
        }
      },
      "execution_count": 16,
      "outputs": [
        {
          "output_type": "execute_result",
          "data": {
            "text/plain": [
              "35"
            ]
          },
          "metadata": {},
          "execution_count": 16
        }
      ]
    },
    {
      "cell_type": "code",
      "source": [
        "math.pow(2,3)"
      ],
      "metadata": {
        "id": "z-aXCPgpeH48",
        "outputId": "dd33b5a1-9d51-4f4f-83a3-99387f3166dd",
        "colab": {
          "base_uri": "https://localhost:8080/"
        }
      },
      "execution_count": 17,
      "outputs": [
        {
          "output_type": "execute_result",
          "data": {
            "text/plain": [
              "8.0"
            ]
          },
          "metadata": {},
          "execution_count": 17
        }
      ]
    },
    {
      "cell_type": "code",
      "source": [
        "math.sqrt(49)"
      ],
      "metadata": {
        "id": "5yJIgN14eH7k",
        "outputId": "b7094117-0dd4-483e-bca0-ce7af8757fd3",
        "colab": {
          "base_uri": "https://localhost:8080/"
        }
      },
      "execution_count": 18,
      "outputs": [
        {
          "output_type": "execute_result",
          "data": {
            "text/plain": [
              "7.0"
            ]
          },
          "metadata": {},
          "execution_count": 18
        }
      ]
    },
    {
      "cell_type": "code",
      "source": [
        ""
      ],
      "metadata": {
        "id": "foZodnvSew1F"
      },
      "execution_count": 18,
      "outputs": []
    },
    {
      "cell_type": "markdown",
      "source": [
        "####  Let's multiply some matrices"
      ],
      "metadata": {
        "id": "rDzddESDjgm7"
      }
    },
    {
      "cell_type": "code",
      "source": [
        "Matrix1=[[1,2],[3,4]]"
      ],
      "metadata": {
        "id": "YFFQnldnhHC6"
      },
      "execution_count": 19,
      "outputs": []
    },
    {
      "cell_type": "code",
      "source": [
        "Matrix2=[[5,6],[7,8]]"
      ],
      "metadata": {
        "id": "3FwJiSukhHIw"
      },
      "execution_count": 20,
      "outputs": []
    },
    {
      "cell_type": "code",
      "source": [
        "numpy.matmul(Matrix1, Matrix2)"
      ],
      "metadata": {
        "id": "QrYYTHFDewyV",
        "outputId": "4f520240-ec86-4a1e-97a7-85ba522b72c9",
        "colab": {
          "base_uri": "https://localhost:8080/"
        }
      },
      "execution_count": 21,
      "outputs": [
        {
          "output_type": "execute_result",
          "data": {
            "text/plain": [
              "array([[19, 22],\n",
              "       [43, 50]])"
            ]
          },
          "metadata": {},
          "execution_count": 21
        }
      ]
    },
    {
      "cell_type": "markdown",
      "source": [
        "\n",
        "#### Let's compare two numbers"
      ],
      "metadata": {
        "id": "tHaq8Vodj33m"
      }
    },
    {
      "cell_type": "code",
      "source": [
        "a=45\n",
        "b=34\n",
        "c=34"
      ],
      "metadata": {
        "id": "vAJ0hAUyj2an"
      },
      "execution_count": 22,
      "outputs": []
    },
    {
      "cell_type": "code",
      "source": [
        "a==b"
      ],
      "metadata": {
        "id": "wCrxL2zwj2jj",
        "outputId": "cf4bf61c-4f1a-47c7-e79a-c52ab2446dec",
        "colab": {
          "base_uri": "https://localhost:8080/"
        }
      },
      "execution_count": 23,
      "outputs": [
        {
          "output_type": "execute_result",
          "data": {
            "text/plain": [
              "False"
            ]
          },
          "metadata": {},
          "execution_count": 23
        }
      ]
    },
    {
      "cell_type": "code",
      "source": [
        "b==c"
      ],
      "metadata": {
        "id": "FMd1-56qkBXg",
        "outputId": "cc2917b5-c7cd-4000-a30c-80aa0a1727dd",
        "colab": {
          "base_uri": "https://localhost:8080/"
        }
      },
      "execution_count": 24,
      "outputs": [
        {
          "output_type": "execute_result",
          "data": {
            "text/plain": [
              "True"
            ]
          },
          "metadata": {},
          "execution_count": 24
        }
      ]
    },
    {
      "cell_type": "markdown",
      "source": [
        ""
      ],
      "metadata": {
        "id": "tdKZWHpOklOE"
      }
    },
    {
      "cell_type": "markdown",
      "metadata": {
        "nbpages": {
          "level": 2,
          "link": "[1.2.3 Additional Resources](https://jckantor.github.io/CBE30338/01.02-Python-Basics.html#1.2.3-Additional-Resources)",
          "section": "1.2.3 Additional Resources"
        },
        "id": "iZgMrcrWYonU"
      },
      "source": [
        "## Additional Resources\n",
        "* If you still feel lost: [Code Academy](https://www.codecademy.com/learn/python)\n",
        "\n",
        "* If you want a good reference site: [Official Python Reference](https://docs.python.org/2/reference/)\n",
        "\n",
        "* If you want to learn python robustly: [Learn Python the Hard Way](https://learnpythonthehardway.org/book/)\n",
        "\n",
        "\n"
      ]
    },
    {
      "cell_type": "code",
      "source": [
        ""
      ],
      "metadata": {
        "id": "ZYpQ5KCylL_u"
      },
      "execution_count": 24,
      "outputs": []
    }
  ],
  "metadata": {
    "anaconda-cloud": {},
    "kernelspec": {
      "display_name": "Python 3",
      "language": "python",
      "name": "python3"
    },
    "language_info": {
      "codemirror_mode": {
        "name": "ipython",
        "version": 3
      },
      "file_extension": ".py",
      "mimetype": "text/x-python",
      "name": "python",
      "nbconvert_exporter": "python",
      "pygments_lexer": "ipython3",
      "version": "3.7.3"
    },
    "colab": {
      "name": "01.02-Python-Basics.ipynb",
      "provenance": [],
      "include_colab_link": true
    }
  },
  "nbformat": 4,
  "nbformat_minor": 0
}