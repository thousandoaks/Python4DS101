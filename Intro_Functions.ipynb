{
  "nbformat_minor": 0,
  "cells": [
    {
      "cell_type": "markdown",
      "metadata": {
        "id": "view-in-github",
        "colab_type": "text"
      },
      "source": [
        "<a href=\"https://colab.research.google.com/github/thousandoaks/Python4DS101/blob/master/Intro_Functions.ipynb\" target=\"_parent\"><img src=\"https://colab.research.google.com/assets/colab-badge.svg\" alt=\"Open In Colab\"/></a>"
      ]
    },
    {
      "source": [
        "#  Introduction to functions"
      ],
      "cell_type": "markdown",
      "metadata": {
        "id": "rHLcriKWLRe4"
      }
    },
    {
      "source": [
        "**Learning Objectives:**\n",
        "  *  Define your own functions in `Python`\n",
        "  "
      ],
      "cell_type": "markdown",
      "metadata": {
        "id": "QvJBqX8_Bctk"
      }
    },
    {
      "cell_type": "markdown",
      "source": [
        "## Defining our first function\n"
      ],
      "metadata": {
        "id": "IhMO8wRGpgvc"
      }
    },
    {
      "source": [
        "The following code defines a function that takes no arguments and prints a set of sentences"
      ],
      "cell_type": "markdown",
      "metadata": {
        "id": "oa5wfZT7VHJl"
      }
    },
    {
      "cell_type": "markdown",
      "source": [
        "The name of the function is `print_lyrics`"
      ],
      "metadata": {
        "id": "_Ss1MGZIkdZH"
      }
    },
    {
      "source": [
        "def print_lyrics():\n",
        "  print(\"I'm a lumberjack, and I'm okay.\")\n",
        "  print(\"I sleep all night and I work all day.\")\n"
      ],
      "cell_type": "code",
      "execution_count": 19,
      "outputs": [],
      "metadata": {
        "id": "av6RYOraVG1V"
      }
    },
    {
      "source": [
        "Please note the identiation of the function body"
      ],
      "cell_type": "markdown",
      "metadata": {
        "id": "WrkBjfz5kEQu"
      }
    },
    {
      "cell_type": "markdown",
      "source": [
        "### Calling our first function"
      ],
      "metadata": {
        "id": "jo0XPbKnlroO"
      }
    },
    {
      "source": [
        "print_lyrics()"
      ],
      "cell_type": "code",
      "execution_count": 20,
      "outputs": [
        {
          "output_type": "stream",
          "name": "stdout",
          "text": [
            "I'm a lumberjack, and I'm okay.\n",
            "I sleep all night and I work all day.\n"
          ]
        }
      ],
      "metadata": {
        "id": "s3ND3bgOkB5k",
        "colab": {
          "base_uri": "https://localhost:8080/"
        },
        "outputId": "37276f9a-8763-4c24-ded9-6bef189b045f"
      }
    },
    {
      "cell_type": "markdown",
      "source": [
        "## Defining another function"
      ],
      "metadata": {
        "id": "QWiD0W-xl1mn"
      }
    },
    {
      "cell_type": "markdown",
      "source": [
        "The following defines a function that takes the argument `NameArgument` and prints a set of sentences with `NameArgument` in it."
      ],
      "metadata": {
        "id": "m1qsNim5mV-y"
      }
    },
    {
      "cell_type": "code",
      "source": [
        "def print_name(NameArgument):\n",
        "  print('Hello')\n",
        "  print('Your name is:'+NameArgument)"
      ],
      "metadata": {
        "id": "MzXRoaSQnXNY"
      },
      "execution_count": 21,
      "outputs": []
    },
    {
      "cell_type": "markdown",
      "source": [
        "### Calling the function"
      ],
      "metadata": {
        "id": "5rHNMnhLmsCa"
      }
    },
    {
      "cell_type": "code",
      "source": [
        "print_name('David')"
      ],
      "metadata": {
        "colab": {
          "base_uri": "https://localhost:8080/"
        },
        "id": "gfptUB22mNmy",
        "outputId": "277b98b1-5396-4bee-9ac7-2a6caa46cb0d"
      },
      "execution_count": 22,
      "outputs": [
        {
          "output_type": "stream",
          "name": "stdout",
          "text": [
            "Hello\n",
            "Your name is:David\n"
          ]
        }
      ]
    },
    {
      "cell_type": "code",
      "source": [
        "print_name('Joshua')"
      ],
      "metadata": {
        "colab": {
          "base_uri": "https://localhost:8080/"
        },
        "id": "SjcZ8fjpmP0j",
        "outputId": "4466d5fc-c7da-4883-d533-f4e784c4282e"
      },
      "execution_count": 23,
      "outputs": [
        {
          "output_type": "stream",
          "name": "stdout",
          "text": [
            "Hello\n",
            "Your name is:Joshua\n"
          ]
        }
      ]
    },
    {
      "cell_type": "code",
      "source": [
        "Customer='Deborah'"
      ],
      "metadata": {
        "id": "nUrFb889mzIX"
      },
      "execution_count": 24,
      "outputs": []
    },
    {
      "cell_type": "code",
      "source": [
        "print_name(Customer)"
      ],
      "metadata": {
        "colab": {
          "base_uri": "https://localhost:8080/"
        },
        "id": "BWvVIhO9m8qf",
        "outputId": "f8a46607-9625-459a-9fa4-13c0829643fd"
      },
      "execution_count": 25,
      "outputs": [
        {
          "output_type": "stream",
          "name": "stdout",
          "text": [
            "Hello\n",
            "Your name is:Deborah\n"
          ]
        }
      ]
    },
    {
      "cell_type": "markdown",
      "source": [
        "## Yet another function"
      ],
      "metadata": {
        "id": "E6CAxyIfnPO7"
      }
    },
    {
      "cell_type": "markdown",
      "source": [
        "The following function:\n",
        " * Takes an argument `temp` \n",
        " * Performs a mathematical operation\n",
        " * Returns the result"
      ],
      "metadata": {
        "id": "EdXao7cxnUbx"
      }
    },
    {
      "cell_type": "code",
      "source": [
        "def fahr_to_celsius(temp):\n",
        "    internalVariable=(temp - 32) * (5/9)\n",
        "    return(internalVariable)"
      ],
      "metadata": {
        "id": "pGh3Q4benP7z"
      },
      "execution_count": 26,
      "outputs": []
    },
    {
      "cell_type": "markdown",
      "source": [
        "### Calling the function"
      ],
      "metadata": {
        "id": "ZCI17QAXn-f7"
      }
    },
    {
      "cell_type": "code",
      "source": [
        "fahr_to_celsius(50)"
      ],
      "metadata": {
        "colab": {
          "base_uri": "https://localhost:8080/"
        },
        "id": "3ZMLMrqNn0RQ",
        "outputId": "83f6af4f-c385-41cf-a928-1cc434743900"
      },
      "execution_count": 27,
      "outputs": [
        {
          "output_type": "execute_result",
          "data": {
            "text/plain": [
              "10.0"
            ]
          },
          "metadata": {},
          "execution_count": 27
        }
      ]
    },
    {
      "cell_type": "code",
      "source": [
        "fahr_to_celsius(100)"
      ],
      "metadata": {
        "colab": {
          "base_uri": "https://localhost:8080/"
        },
        "id": "Y8sZU5a8oAZy",
        "outputId": "e836b400-4554-4e6a-98da-796447fa61c4"
      },
      "execution_count": 28,
      "outputs": [
        {
          "output_type": "execute_result",
          "data": {
            "text/plain": [
              "37.77777777777778"
            ]
          },
          "metadata": {},
          "execution_count": 28
        }
      ]
    },
    {
      "cell_type": "markdown",
      "source": [
        "## Yet another multiplication function"
      ],
      "metadata": {
        "id": "lvoItqm5oqZt"
      }
    },
    {
      "cell_type": "code",
      "source": [
        "def multiplication(argument1,argument2):\n",
        "   internalVariable=argument1*argument2\n",
        "   return(internalVariable)"
      ],
      "metadata": {
        "id": "YfF-orZ1ouZl"
      },
      "execution_count": 29,
      "outputs": []
    },
    {
      "cell_type": "markdown",
      "source": [
        "### Calling the function"
      ],
      "metadata": {
        "id": "8iaymbtwpHgL"
      }
    },
    {
      "cell_type": "code",
      "source": [
        "multiplication(2,10)"
      ],
      "metadata": {
        "colab": {
          "base_uri": "https://localhost:8080/"
        },
        "id": "jL7PtOjrpCQy",
        "outputId": "cb0e516e-7fb6-487e-e206-b55e251351f1"
      },
      "execution_count": 30,
      "outputs": [
        {
          "output_type": "execute_result",
          "data": {
            "text/plain": [
              "20"
            ]
          },
          "metadata": {},
          "execution_count": 30
        }
      ]
    },
    {
      "cell_type": "code",
      "source": [
        "multiplication(22,22)"
      ],
      "metadata": {
        "colab": {
          "base_uri": "https://localhost:8080/"
        },
        "id": "2Su2yLa4pLDR",
        "outputId": "f8676ca3-f8c7-4d4a-88e1-f4467a9a55aa"
      },
      "execution_count": 31,
      "outputs": [
        {
          "output_type": "execute_result",
          "data": {
            "text/plain": [
              "484"
            ]
          },
          "metadata": {},
          "execution_count": 31
        }
      ]
    },
    {
      "cell_type": "code",
      "source": [
        ""
      ],
      "metadata": {
        "id": "eKHz0jLPpNVE"
      },
      "execution_count": null,
      "outputs": []
    }
  ],
  "metadata": {
    "colab": {
      "collapsed_sections": [
        "JndnmDMp66FL",
        "YHIWvc9Ms-Ll",
        "TJffr5_Jwqvd"
      ],
      "name": "Intro-Functions.ipynb",
      "provenance": [],
      "include_colab_link": true
    },
    "kernelspec": {
      "name": "python3",
      "display_name": "Python 3"
    }
  },
  "nbformat": 4
}