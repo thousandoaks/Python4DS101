{
  "nbformat_minor": 0,
  "cells": [
    {
      "cell_type": "markdown",
      "metadata": {
        "id": "view-in-github",
        "colab_type": "text"
      },
      "source": [
        "<a href=\"https://colab.research.google.com/github/thousandoaks/Python4DS101/blob/master/Intro_Lambda_Functions.ipynb\" target=\"_parent\"><img src=\"https://colab.research.google.com/assets/colab-badge.svg\" alt=\"Open In Colab\"/></a>"
      ]
    },
    {
      "source": [
        "#  Introduction to lambda functions"
      ],
      "cell_type": "markdown",
      "metadata": {
        "id": "rHLcriKWLRe4"
      }
    },
    {
      "source": [
        "**Learning Objectives:**\n",
        "  *  Define your own lambda functions in `Python`\n",
        "  "
      ],
      "cell_type": "markdown",
      "metadata": {
        "id": "QvJBqX8_Bctk"
      }
    },
    {
      "cell_type": "markdown",
      "source": [
        "## Defining our first lambda function\n"
      ],
      "metadata": {
        "id": "IhMO8wRGpgvc"
      }
    },
    {
      "source": [
        "The following code defines a lamba function that takes an argument and multiplies it by two"
      ],
      "cell_type": "markdown",
      "metadata": {
        "id": "oa5wfZT7VHJl"
      }
    },
    {
      "cell_type": "markdown",
      "source": [
        "The name of the function is `myFirstLambdaFunction`"
      ],
      "metadata": {
        "id": "_Ss1MGZIkdZH"
      }
    },
    {
      "source": [
        "#Lambda function\n",
        "myFirstLambdaFunction=lambda x: 2*x"
      ],
      "cell_type": "code",
      "execution_count": 17,
      "outputs": [],
      "metadata": {
        "id": "av6RYOraVG1V"
      }
    },
    {
      "cell_type": "markdown",
      "source": [
        "### Calling our first lambda function"
      ],
      "metadata": {
        "id": "jo0XPbKnlroO"
      }
    },
    {
      "source": [
        "myFirstLambdaFunction(5)"
      ],
      "cell_type": "code",
      "execution_count": 18,
      "outputs": [
        {
          "output_type": "execute_result",
          "data": {
            "text/plain": [
              "10"
            ]
          },
          "metadata": {},
          "execution_count": 18
        }
      ],
      "metadata": {
        "id": "s3ND3bgOkB5k",
        "colab": {
          "base_uri": "https://localhost:8080/"
        },
        "outputId": "f8269921-bfbf-406a-9d79-a8fabd23493a"
      }
    },
    {
      "cell_type": "code",
      "source": [
        "myFirstLambdaFunction(50)"
      ],
      "metadata": {
        "colab": {
          "base_uri": "https://localhost:8080/"
        },
        "id": "lxzUlA1wtrhb",
        "outputId": "c632b51e-a649-4800-defa-7279c36b8a31"
      },
      "execution_count": 19,
      "outputs": [
        {
          "output_type": "execute_result",
          "data": {
            "text/plain": [
              "100"
            ]
          },
          "metadata": {},
          "execution_count": 19
        }
      ]
    },
    {
      "cell_type": "markdown",
      "source": [
        "## Defining another lambda function"
      ],
      "metadata": {
        "id": "QWiD0W-xl1mn"
      }
    },
    {
      "cell_type": "markdown",
      "source": [
        "The following defines a function that takes an argument and returns it in uppercase format"
      ],
      "metadata": {
        "id": "m1qsNim5mV-y"
      }
    },
    {
      "cell_type": "code",
      "source": [
        "myStringProcessor=lambda x:x.upper()"
      ],
      "metadata": {
        "id": "MzXRoaSQnXNY"
      },
      "execution_count": 20,
      "outputs": []
    },
    {
      "cell_type": "markdown",
      "source": [
        "### Calling the lambda function"
      ],
      "metadata": {
        "id": "5rHNMnhLmsCa"
      }
    },
    {
      "cell_type": "code",
      "source": [
        "myStringProcessor('David')"
      ],
      "metadata": {
        "colab": {
          "base_uri": "https://localhost:8080/",
          "height": 35
        },
        "id": "gfptUB22mNmy",
        "outputId": "eaaedc2a-9837-4ea2-f6ef-ed5c9f639d3d"
      },
      "execution_count": 21,
      "outputs": [
        {
          "output_type": "execute_result",
          "data": {
            "text/plain": [
              "'DAVID'"
            ],
            "application/vnd.google.colaboratory.intrinsic+json": {
              "type": "string"
            }
          },
          "metadata": {},
          "execution_count": 21
        }
      ]
    },
    {
      "cell_type": "code",
      "source": [
        "myStringProcessor('Hi there, how are things on your side ?')"
      ],
      "metadata": {
        "colab": {
          "base_uri": "https://localhost:8080/",
          "height": 35
        },
        "id": "SjcZ8fjpmP0j",
        "outputId": "57855a7e-61ad-40e6-8cd5-2f40bae46c4f"
      },
      "execution_count": 22,
      "outputs": [
        {
          "output_type": "execute_result",
          "data": {
            "text/plain": [
              "'HI THERE, HOW ARE THINGS ON YOUR SIDE ?'"
            ],
            "application/vnd.google.colaboratory.intrinsic+json": {
              "type": "string"
            }
          },
          "metadata": {},
          "execution_count": 22
        }
      ]
    },
    {
      "cell_type": "code",
      "source": [
        ""
      ],
      "metadata": {
        "id": "eKHz0jLPpNVE"
      },
      "execution_count": 22,
      "outputs": []
    },
    {
      "cell_type": "markdown",
      "source": [
        "## Yet another lambda function"
      ],
      "metadata": {
        "id": "Tq4Tlcefu1tW"
      }
    },
    {
      "cell_type": "markdown",
      "source": [
        "The following defines a function that takes two arguments and returns the firs one raised to the power of the second argument"
      ],
      "metadata": {
        "id": "SZOSlaV-u4uN"
      }
    },
    {
      "cell_type": "code",
      "source": [
        "myPower=lambda x,y:x**y"
      ],
      "metadata": {
        "id": "yHap7HwZvCv-"
      },
      "execution_count": 23,
      "outputs": []
    },
    {
      "cell_type": "code",
      "source": [
        "myPower(10,2)"
      ],
      "metadata": {
        "colab": {
          "base_uri": "https://localhost:8080/"
        },
        "id": "Jr4NeT96vFv1",
        "outputId": "aa144a4e-8e34-4762-fc05-e1dfec5e13f5"
      },
      "execution_count": 24,
      "outputs": [
        {
          "output_type": "execute_result",
          "data": {
            "text/plain": [
              "100"
            ]
          },
          "metadata": {},
          "execution_count": 24
        }
      ]
    },
    {
      "cell_type": "code",
      "source": [
        "myPower(10,3)"
      ],
      "metadata": {
        "colab": {
          "base_uri": "https://localhost:8080/"
        },
        "id": "Z_Lixyj4vIer",
        "outputId": "07995b12-76a5-4515-c7b9-d147c6819fec"
      },
      "execution_count": 25,
      "outputs": [
        {
          "output_type": "execute_result",
          "data": {
            "text/plain": [
              "1000"
            ]
          },
          "metadata": {},
          "execution_count": 25
        }
      ]
    },
    {
      "cell_type": "code",
      "source": [
        ""
      ],
      "metadata": {
        "id": "LUk4uLTBvWqb"
      },
      "execution_count": 25,
      "outputs": []
    }
  ],
  "metadata": {
    "colab": {
      "collapsed_sections": [
        "JndnmDMp66FL",
        "YHIWvc9Ms-Ll",
        "TJffr5_Jwqvd"
      ],
      "name": "Intro-Lambda-Functions.ipynb",
      "provenance": [],
      "include_colab_link": true
    },
    "kernelspec": {
      "name": "python3",
      "display_name": "Python 3"
    }
  },
  "nbformat": 4
}