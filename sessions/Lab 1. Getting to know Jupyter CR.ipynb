{
  "metadata": {
    "orig_nbformat": 4,
    "kernelspec": {
      "name": "python3",
      "display_name": "Python 3 (ipykernel)",
      "language": "python"
    },
    "language_info": {
      "name": "python",
      "version": "3.7.12",
      "mimetype": "text/x-python",
      "codemirror_mode": {
        "name": "ipython",
        "version": 3
      },
      "pygments_lexer": "ipython3",
      "nbconvert_exporter": "python",
      "file_extension": ".py"
    },
    "colab": {
      "name": "Lab 1. Getting to know Jupyter CR.ipynb",
      "provenance": []
    }
  },
  "nbformat_minor": 0,
  "nbformat": 4,
  "cells": [
    {
      "cell_type": "markdown",
      "source": [
        "# Lab 1. Getting to know Jupiter\n",
        "### TO DO What is Jupyter.\n",
        "## benefits of literate computing, storytelling, reproducible computing\n",
        "\n",
        "## TO DO Objectives of the lab\n",
        "1. \n",
        "2.\n",
        "3.\n",
        "4"
      ],
      "metadata": {
        "id": "L0QN_z8y8Iqu"
      }
    },
    {
      "cell_type": "markdown",
      "source": [
        "# this is a new cell that I created the 20th of June"
      ],
      "metadata": {
        "id": "k56nc2uC8L6O"
      }
    },
    {
      "cell_type": "code",
      "source": [
        ""
      ],
      "metadata": {
        "id": "DZJXyN0s8Iqv"
      },
      "execution_count": null,
      "outputs": []
    },
    {
      "cell_type": "markdown",
      "source": [
        "## Notebooks are organized in cells. Cells are units of information or computation. \n",
        "### Informational cells are useful to provide information or context to the reader\n",
        "### Computational cells contain bits of code to be executed by Jupyter"
      ],
      "metadata": {
        "id": "TDVyY5Gx8Iqw"
      }
    },
    {
      "cell_type": "markdown",
      "source": [
        "## This is a markup cell, it is used to document notebooks, add text, titles\n",
        "\n",
        "![title](https://www.neuschwanstein.de/bilder/schloss/neuschwanstein500.jpg)"
      ],
      "metadata": {
        "id": "Ho2_za8D8Iqw"
      }
    },
    {
      "cell_type": "code",
      "source": [
        "## This is a computational cell\n",
        "3+3"
      ],
      "metadata": {
        "trusted": true,
        "id": "MrU4Mydl8Iqx",
        "outputId": "0c70305f-5677-40af-ca4c-3838ca5bbf5e"
      },
      "execution_count": null,
      "outputs": [
        {
          "execution_count": 2,
          "output_type": "execute_result",
          "data": {
            "text/plain": "6"
          },
          "metadata": {}
        }
      ]
    },
    {
      "cell_type": "code",
      "source": [
        "3455/54554"
      ],
      "metadata": {
        "trusted": true,
        "id": "bAqoEE7p8Iqy",
        "outputId": "14c5b9b4-0f31-443c-eedb-6f8522dc943a"
      },
      "execution_count": null,
      "outputs": [
        {
          "execution_count": 3,
          "output_type": "execute_result",
          "data": {
            "text/plain": "0.06333174469333137"
          },
          "metadata": {}
        }
      ]
    },
    {
      "cell_type": "code",
      "source": [
        "myFloatVariable=3.141592"
      ],
      "metadata": {
        "trusted": true,
        "id": "ktvw3Fq-8Iqy"
      },
      "execution_count": null,
      "outputs": []
    },
    {
      "cell_type": "code",
      "source": [
        "myFloatVariable"
      ],
      "metadata": {
        "trusted": true,
        "id": "esi2c6gH8Iqz",
        "outputId": "3ff04598-473d-4d45-f066-94c6c9912aff"
      },
      "execution_count": null,
      "outputs": [
        {
          "execution_count": 5,
          "output_type": "execute_result",
          "data": {
            "text/plain": "3.141592"
          },
          "metadata": {}
        }
      ]
    },
    {
      "cell_type": "code",
      "source": [
        "myStringVariable='Hi there I am on python'"
      ],
      "metadata": {
        "trusted": true,
        "id": "T-p_HHuW8Iqz"
      },
      "execution_count": null,
      "outputs": []
    },
    {
      "cell_type": "code",
      "source": [
        "myStringVariable"
      ],
      "metadata": {
        "trusted": true,
        "id": "9hJUCepJ8Iq0",
        "outputId": "19ec4cad-5191-437c-b4b7-4f41532dd259"
      },
      "execution_count": null,
      "outputs": [
        {
          "execution_count": 7,
          "output_type": "execute_result",
          "data": {
            "text/plain": "'Hi there I am on python'"
          },
          "metadata": {}
        }
      ]
    },
    {
      "cell_type": "code",
      "source": [
        "print(myStringVariable)"
      ],
      "metadata": {
        "trusted": true,
        "id": "Wf3T3Qq18Iq0",
        "outputId": "f4915f4b-f6f4-43d3-f9b8-8b2f47c20238"
      },
      "execution_count": null,
      "outputs": [
        {
          "name": "stdout",
          "text": "Hi there I am on python\n",
          "output_type": "stream"
        }
      ]
    },
    {
      "cell_type": "markdown",
      "source": [
        "## 1. Variables in Python\n",
        "### One of the most powerful features of a programming language is the ability to manipulate variables. A variable is a name that refers to a value."
      ],
      "metadata": {
        "id": "Z9B4iurt8Iq0"
      }
    },
    {
      "cell_type": "code",
      "source": [
        ""
      ],
      "metadata": {
        "id": "pRrNEcYw8Iq1"
      },
      "execution_count": null,
      "outputs": []
    },
    {
      "cell_type": "code",
      "source": [
        "myFirstVariable=5"
      ],
      "metadata": {
        "trusted": true,
        "id": "Uepi5oUr8Iq1"
      },
      "execution_count": null,
      "outputs": []
    },
    {
      "cell_type": "code",
      "source": [
        "myFirstVariable"
      ],
      "metadata": {
        "trusted": true,
        "id": "kzqwqVS38Iq1",
        "outputId": "babbc3b3-0e92-4f68-c238-a1dd5a16721c"
      },
      "execution_count": null,
      "outputs": [
        {
          "execution_count": 10,
          "output_type": "execute_result",
          "data": {
            "text/plain": "5"
          },
          "metadata": {}
        }
      ]
    },
    {
      "cell_type": "code",
      "source": [
        "myFirstString='This is a really long sentence'"
      ],
      "metadata": {
        "trusted": true,
        "id": "0-4DoGWj8Iq1"
      },
      "execution_count": null,
      "outputs": []
    },
    {
      "cell_type": "code",
      "source": [
        "myFirstString"
      ],
      "metadata": {
        "trusted": true,
        "id": "KK8kFrOx8Iq2",
        "outputId": "bbe39a22-cc24-4788-d4e8-479d6aed70bb"
      },
      "execution_count": null,
      "outputs": [
        {
          "execution_count": 12,
          "output_type": "execute_result",
          "data": {
            "text/plain": "'This is a really long sentence'"
          },
          "metadata": {}
        }
      ]
    },
    {
      "cell_type": "code",
      "source": [
        "myFirstList=[3,4,5,6,7]"
      ],
      "metadata": {
        "trusted": true,
        "id": "7JXkW6SH8Iq2"
      },
      "execution_count": null,
      "outputs": []
    },
    {
      "cell_type": "code",
      "source": [
        "myFirstList"
      ],
      "metadata": {
        "trusted": true,
        "id": "rPfMK-VP8Iq2",
        "outputId": "0755dc7d-a9ab-4bde-cbe6-8dae70de107f"
      },
      "execution_count": null,
      "outputs": [
        {
          "execution_count": 14,
          "output_type": "execute_result",
          "data": {
            "text/plain": "[3, 4, 5, 6, 7]"
          },
          "metadata": {}
        }
      ]
    },
    {
      "cell_type": "code",
      "source": [
        "myFirstMatrix=[['a','b','c'],['d','e','f'],['g','h','i']]"
      ],
      "metadata": {
        "trusted": true,
        "id": "XxmeL2LR8Iq2"
      },
      "execution_count": null,
      "outputs": []
    },
    {
      "cell_type": "code",
      "source": [
        "myFirstMatrix"
      ],
      "metadata": {
        "trusted": true,
        "id": "2-JYm-6O8Iq3",
        "outputId": "f4348a53-2c13-4c98-b38e-3ae0fea17611"
      },
      "execution_count": null,
      "outputs": [
        {
          "execution_count": 16,
          "output_type": "execute_result",
          "data": {
            "text/plain": "[['a', 'b', 'c'], ['d', 'e', 'f'], ['g', 'h', 'i']]"
          },
          "metadata": {}
        }
      ]
    },
    {
      "cell_type": "code",
      "source": [
        "mySecondMatrix=[[1,2],[3,4]]"
      ],
      "metadata": {
        "trusted": true,
        "id": "4WakHtAB8Iq3"
      },
      "execution_count": null,
      "outputs": []
    },
    {
      "cell_type": "code",
      "source": [
        "mySecondMatrix"
      ],
      "metadata": {
        "trusted": true,
        "id": "xh5COcH48Iq3",
        "outputId": "d39ca463-d962-4317-c4cc-86edfb2331b0"
      },
      "execution_count": null,
      "outputs": [
        {
          "execution_count": 18,
          "output_type": "execute_result",
          "data": {
            "text/plain": "[[1, 2], [3, 4]]"
          },
          "metadata": {}
        }
      ]
    },
    {
      "cell_type": "code",
      "source": [
        ""
      ],
      "metadata": {
        "id": "2aM4_oA28Iq3"
      },
      "execution_count": null,
      "outputs": []
    },
    {
      "cell_type": "code",
      "source": [
        "myListofStrings=['Hi there', 'Hola que tal?','Wie gehts', 'Ni hao']"
      ],
      "metadata": {
        "trusted": true,
        "id": "WG2EJ_2U8Iq3"
      },
      "execution_count": null,
      "outputs": []
    },
    {
      "cell_type": "code",
      "source": [
        "myListofStrings"
      ],
      "metadata": {
        "trusted": true,
        "id": "2EUoQBJA8Iq4",
        "outputId": "eb70cc0a-12cb-42c6-a851-7a2938ff4bfb"
      },
      "execution_count": null,
      "outputs": [
        {
          "execution_count": 20,
          "output_type": "execute_result",
          "data": {
            "text/plain": "['Hi there', 'Hola que tal?', 'Wie gehts', 'Ni hao']"
          },
          "metadata": {}
        }
      ]
    },
    {
      "cell_type": "code",
      "source": [
        ""
      ],
      "metadata": {
        "id": "_ItAeDfX8Iq4"
      },
      "execution_count": null,
      "outputs": []
    },
    {
      "cell_type": "code",
      "source": [
        ""
      ],
      "metadata": {
        "id": "niol_jdw8Iq4"
      },
      "execution_count": null,
      "outputs": []
    },
    {
      "cell_type": "markdown",
      "source": [
        "## 2. Expressions and Statements in Python\n",
        "### An expression is a combination of values, variables, and operators. A value all by itself is considered an expression, and so is a variable, so the following are all legal expressions:"
      ],
      "metadata": {
        "id": "Ue5CEVWf8Iq4"
      }
    },
    {
      "cell_type": "code",
      "source": [
        "anIntegerVariable=345"
      ],
      "metadata": {
        "trusted": true,
        "id": "Cg9-KI2K8Iq4"
      },
      "execution_count": null,
      "outputs": []
    },
    {
      "cell_type": "code",
      "source": [
        "anIntegerVariable"
      ],
      "metadata": {
        "trusted": true,
        "id": "4bKJ3-ue8Iq4",
        "outputId": "c932d0ae-dfec-4564-e22d-571244f1a3b9"
      },
      "execution_count": null,
      "outputs": [
        {
          "execution_count": 22,
          "output_type": "execute_result",
          "data": {
            "text/plain": "345"
          },
          "metadata": {}
        }
      ]
    },
    {
      "cell_type": "code",
      "source": [
        "print(anIntegerVariable)"
      ],
      "metadata": {
        "trusted": true,
        "id": "3tygMNvR8Iq5",
        "outputId": "7e0b0bc8-aa14-4c81-89f0-44cfaf01d085"
      },
      "execution_count": null,
      "outputs": [
        {
          "name": "stdout",
          "text": "345\n",
          "output_type": "stream"
        }
      ]
    },
    {
      "cell_type": "code",
      "source": [
        ""
      ],
      "metadata": {
        "id": "iGvThvK08Iq5"
      },
      "execution_count": null,
      "outputs": []
    },
    {
      "cell_type": "code",
      "source": [
        "aFloatVariable=34.23"
      ],
      "metadata": {
        "trusted": true,
        "id": "MWkyRGwI8Iq5"
      },
      "execution_count": null,
      "outputs": []
    },
    {
      "cell_type": "code",
      "source": [
        "aFloatVariable"
      ],
      "metadata": {
        "trusted": true,
        "id": "5hYV_qG48Iq5",
        "outputId": "9c1d5bbe-b3f0-48c1-88f5-7f7d6f77e0c0"
      },
      "execution_count": null,
      "outputs": [
        {
          "execution_count": 25,
          "output_type": "execute_result",
          "data": {
            "text/plain": "34.23"
          },
          "metadata": {}
        }
      ]
    },
    {
      "cell_type": "code",
      "source": [
        ""
      ],
      "metadata": {
        "trusted": true,
        "id": "gQvv9w258Iq5"
      },
      "execution_count": null,
      "outputs": []
    },
    {
      "cell_type": "code",
      "source": [
        "anIntegerVariable+234356"
      ],
      "metadata": {
        "trusted": true,
        "id": "NTKNq9lj8Iq5",
        "outputId": "6a8733c1-fd75-42cc-ed27-97cfcd2c23fc"
      },
      "execution_count": null,
      "outputs": [
        {
          "execution_count": 26,
          "output_type": "execute_result",
          "data": {
            "text/plain": "234701"
          },
          "metadata": {}
        }
      ]
    },
    {
      "cell_type": "code",
      "source": [
        ""
      ],
      "metadata": {
        "id": "NPx4HO5O8Iq5"
      },
      "execution_count": null,
      "outputs": []
    },
    {
      "cell_type": "code",
      "source": [
        "aNewVariable=aFloatVariable/3.1415"
      ],
      "metadata": {
        "trusted": true,
        "id": "F04G_92W8Iq5"
      },
      "execution_count": null,
      "outputs": []
    },
    {
      "cell_type": "code",
      "source": [
        "aNewVariable"
      ],
      "metadata": {
        "trusted": true,
        "id": "1R11FGf38Iq6",
        "outputId": "87d100d0-afe0-4857-8747-807373ace2e1"
      },
      "execution_count": null,
      "outputs": [
        {
          "execution_count": 28,
          "output_type": "execute_result",
          "data": {
            "text/plain": "10.896068756963233"
          },
          "metadata": {}
        }
      ]
    },
    {
      "cell_type": "code",
      "source": [
        ""
      ],
      "metadata": {
        "id": "rJph85IU8Iq6"
      },
      "execution_count": null,
      "outputs": []
    },
    {
      "cell_type": "code",
      "source": [
        "aStringVariable=\"Barack Obama was a President of the United States of America.\""
      ],
      "metadata": {
        "trusted": true,
        "id": "tV4GRBBJ8Iq6"
      },
      "execution_count": null,
      "outputs": []
    },
    {
      "cell_type": "code",
      "source": [
        "aStringVariable"
      ],
      "metadata": {
        "trusted": true,
        "id": "e9Wz45r-8Iq6",
        "outputId": "4004c51a-6652-4ce7-a89a-8514130189a5"
      },
      "execution_count": null,
      "outputs": [
        {
          "execution_count": 30,
          "output_type": "execute_result",
          "data": {
            "text/plain": "'Barack Obama was a President of the United States of America.'"
          },
          "metadata": {}
        }
      ]
    },
    {
      "cell_type": "code",
      "source": [
        ""
      ],
      "metadata": {
        "id": "3LBL-pdH8Iq6"
      },
      "execution_count": null,
      "outputs": []
    },
    {
      "cell_type": "code",
      "source": [
        "anotherStringVariable=' He is a philantropist now'"
      ],
      "metadata": {
        "trusted": true,
        "id": "NJrqkGF_8Iq6"
      },
      "execution_count": null,
      "outputs": []
    },
    {
      "cell_type": "code",
      "source": [
        "anotherStringVariable"
      ],
      "metadata": {
        "trusted": true,
        "id": "B2sqEspa8Iq6",
        "outputId": "77c36b42-a971-493d-8eea-47c3426dc0f3"
      },
      "execution_count": null,
      "outputs": [
        {
          "execution_count": 32,
          "output_type": "execute_result",
          "data": {
            "text/plain": "' He is a philantropist now'"
          },
          "metadata": {}
        }
      ]
    },
    {
      "cell_type": "code",
      "source": [
        ""
      ],
      "metadata": {
        "id": "01lYIUn88Iq6"
      },
      "execution_count": null,
      "outputs": []
    },
    {
      "cell_type": "code",
      "source": [
        "aStringVariable+anotherStringVariable"
      ],
      "metadata": {
        "trusted": true,
        "id": "CkZp_nEf8Iq6",
        "outputId": "a83c54ac-e9fa-4884-c5af-2f84776d4827"
      },
      "execution_count": null,
      "outputs": [
        {
          "execution_count": 33,
          "output_type": "execute_result",
          "data": {
            "text/plain": "'Barack Obama was a President of the United States of America. He is a philantropist now'"
          },
          "metadata": {}
        }
      ]
    },
    {
      "cell_type": "code",
      "source": [
        ""
      ],
      "metadata": {
        "id": "HnEZ0FeA8Iq7"
      },
      "execution_count": null,
      "outputs": []
    },
    {
      "cell_type": "markdown",
      "source": [
        "## 3. Libraries\n",
        "### A library is a bit of code, developed by others, developed for speficic purposes. For instance to carry out statistical analysis, process data, develop visualizations, etc.\n",
        "\n",
        "\n",
        "### The good news is that we can import libraries to make our lives easier"
      ],
      "metadata": {
        "id": "GqqwiN4g8Iq7"
      }
    },
    {
      "cell_type": "code",
      "source": [
        "import pandas as pd"
      ],
      "metadata": {
        "trusted": true,
        "id": "4BlSlNZ38Iq7"
      },
      "execution_count": null,
      "outputs": []
    },
    {
      "cell_type": "code",
      "source": [
        ""
      ],
      "metadata": {
        "id": "sUcAHdR08Iq7"
      },
      "execution_count": null,
      "outputs": []
    },
    {
      "cell_type": "code",
      "source": [
        ""
      ],
      "metadata": {
        "id": "4ZXILZ_R8Iq7"
      },
      "execution_count": null,
      "outputs": []
    },
    {
      "cell_type": "markdown",
      "source": [
        "### 3.1. Numpy, for instance, is a library for numerical analysis\n",
        "### First we need to import the numpy library"
      ],
      "metadata": {
        "id": "SHEeDzjc8Iq7"
      }
    },
    {
      "cell_type": "code",
      "source": [
        "import numpy as np"
      ],
      "metadata": {
        "trusted": true,
        "id": "7CpflkBE8Iq7"
      },
      "execution_count": null,
      "outputs": []
    },
    {
      "cell_type": "code",
      "source": [
        ""
      ],
      "metadata": {
        "id": "pozTU-Id8Iq7"
      },
      "execution_count": null,
      "outputs": []
    },
    {
      "cell_type": "markdown",
      "source": [
        "### Once imported we are ready to use it, for instance to multiply matrices"
      ],
      "metadata": {
        "id": "rYfGhEl_8Iq8"
      }
    },
    {
      "cell_type": "code",
      "source": [
        "a = np.array([[1, 0],\n",
        "              [0, 2]])"
      ],
      "metadata": {
        "trusted": true,
        "id": "afMj9e_q8Iq8"
      },
      "execution_count": null,
      "outputs": []
    },
    {
      "cell_type": "code",
      "source": [
        "b = np.array([[4, 1],\n",
        "              [2, 2]])"
      ],
      "metadata": {
        "trusted": true,
        "id": "VVYBurew8Iq8"
      },
      "execution_count": null,
      "outputs": []
    },
    {
      "cell_type": "code",
      "source": [
        "np.matmul(a, b)"
      ],
      "metadata": {
        "trusted": true,
        "id": "AhOxKLIF8Iq8",
        "outputId": "cf0500d6-c701-40db-ac48-5675165f45ad"
      },
      "execution_count": null,
      "outputs": [
        {
          "execution_count": 38,
          "output_type": "execute_result",
          "data": {
            "text/plain": "array([[4, 1],\n       [4, 4]])"
          },
          "metadata": {}
        }
      ]
    },
    {
      "cell_type": "markdown",
      "source": [
        "### 3.2. Seaborn, for instance, is a library to develop plots and visualizations\n",
        "### First we need to import the seaborn library"
      ],
      "metadata": {
        "id": "rvOSO3g68Iq8"
      }
    },
    {
      "cell_type": "code",
      "source": [
        "import seaborn as sns"
      ],
      "metadata": {
        "trusted": true,
        "id": "oWlzss7t8Iq8"
      },
      "execution_count": null,
      "outputs": []
    },
    {
      "cell_type": "markdown",
      "source": [
        ""
      ],
      "metadata": {
        "id": "w7ss2lK98Iq8"
      }
    },
    {
      "cell_type": "code",
      "source": [
        "x_values=[0,1,2,3,4,5,6,7,8,9]"
      ],
      "metadata": {
        "trusted": true,
        "id": "WsWNSc1K8Iq8"
      },
      "execution_count": null,
      "outputs": []
    },
    {
      "cell_type": "code",
      "source": [
        "y_values=[1.2,1.4,1.6,2.3,2.5,3.8,4.1,6.99,12.3,15.7]"
      ],
      "metadata": {
        "trusted": true,
        "id": "jisHVNMx8Iq9"
      },
      "execution_count": null,
      "outputs": []
    },
    {
      "cell_type": "code",
      "source": [
        "sns.scatterplot(x=x_values, y=y_values)"
      ],
      "metadata": {
        "trusted": true,
        "id": "-dLwVIXw8Iq9",
        "outputId": "c69d7caf-97ca-4a19-caff-1b5c81ddab22"
      },
      "execution_count": null,
      "outputs": [
        {
          "execution_count": 42,
          "output_type": "execute_result",
          "data": {
            "text/plain": "<matplotlib.axes._subplots.AxesSubplot at 0x7f319b39dbd0>"
          },
          "metadata": {}
        },
        {
          "output_type": "display_data",
          "data": {
            "text/plain": "<Figure size 432x288 with 1 Axes>",
            "image/png": "[encoded data removed]"
          },
          "metadata": {
            "needs_background": "light"
          }
        }
      ]
    },
    {
      "cell_type": "code",
      "source": [
        ""
      ],
      "metadata": {
        "id": "G7YCvNEk8Iq9"
      },
      "execution_count": null,
      "outputs": []
    },
    {
      "cell_type": "markdown",
      "source": [
        "## 4. How to handle errors and look for help\n",
        "### Quite easy: look on google search for the error message\n",
        "### 95% of the errors are documented on stackoverflow"
      ],
      "metadata": {
        "id": "_vqw0k_z8Iq9"
      }
    },
    {
      "cell_type": "code",
      "source": [
        "print(variable)"
      ],
      "metadata": {
        "trusted": true,
        "id": "Q4hMr4o28Iq9",
        "outputId": "a2b09dba-e578-42ef-b6c5-16cf4bbc55f2"
      },
      "execution_count": null,
      "outputs": [
        {
          "traceback": [
            "\u001b[0;31m---------------------------------------------------------------------------\u001b[0m",
            "\u001b[0;31mNameError\u001b[0m                                 Traceback (most recent call last)",
            "\u001b[0;32m/tmp/ipykernel_162/3784293033.py\u001b[0m in \u001b[0;36m<module>\u001b[0;34m\u001b[0m\n\u001b[0;32m----> 1\u001b[0;31m \u001b[0mprint\u001b[0m\u001b[0;34m(\u001b[0m\u001b[0mvariable\u001b[0m\u001b[0;34m)\u001b[0m\u001b[0;34m\u001b[0m\u001b[0;34m\u001b[0m\u001b[0m\n\u001b[0m",
            "\u001b[0;31mNameError\u001b[0m: name 'variable' is not defined"
          ],
          "ename": "NameError",
          "evalue": "name 'variable' is not defined",
          "output_type": "error"
        }
      ]
    },
    {
      "cell_type": "markdown",
      "source": [
        "### Given the previous error we look on google for some tips on what has gone wrong\n",
        "\n",
        "### https://www.google.com/\n",
        "### Google will redirect you to several solutions posted on stackoverflow\n",
        "### StackOverflow is your best friend when developing code"
      ],
      "metadata": {
        "id": "mh2vtejC8Iq9"
      }
    },
    {
      "cell_type": "code",
      "source": [
        ""
      ],
      "metadata": {
        "id": "0XNtFbE08Iq9"
      },
      "execution_count": null,
      "outputs": []
    },
    {
      "cell_type": "code",
      "source": [
        ""
      ],
      "metadata": {
        "id": "HRvxTMBA8Iq9"
      },
      "execution_count": null,
      "outputs": []
    },
    {
      "cell_type": "code",
      "source": [
        ""
      ],
      "metadata": {
        "id": "SBe8GiUT8Iq-"
      },
      "execution_count": null,
      "outputs": []
    },
    {
      "cell_type": "markdown",
      "source": [
        "## Some advice: learning how to code takes time and patience, persist and your will prevail !!"
      ],
      "metadata": {
        "id": "BGSQYRzU8Iq-"
      }
    },
    {
      "cell_type": "code",
      "source": [
        ""
      ],
      "metadata": {
        "id": "TsKFcjRj8Iq-"
      },
      "execution_count": null,
      "outputs": []
    }
  ]
}