{
  "metadata": {
    "orig_nbformat": 4,
    "kernelspec": {
      "name": "python3",
      "display_name": "Python 3 (ipykernel)",
      "language": "python"
    },
    "language_info": {
      "name": "python",
      "version": "3.7.12",
      "mimetype": "text/x-python",
      "codemirror_mode": {
        "name": "ipython",
        "version": 3
      },
      "pygments_lexer": "ipython3",
      "nbconvert_exporter": "python",
      "file_extension": ".py"
    },
    "colab": {
      "provenance": []
    }
  },
  "nbformat_minor": 0,
  "nbformat": 4,
  "cells": [
    {
      "cell_type": "markdown",
      "source": [
        "#Functions (Lab 1)"
      ],
      "metadata": {
        "id": "HZ8RPYb5-bZG"
      }
    },
    {
      "cell_type": "markdown",
      "source": [
        "#### So far we have made use of Python funcionality as well as external libraries to fetch, transform and visualize datasets.\n",
        "#### In real scenarios you might need to develop new features, usually by developing your own functions\n",
        "\n",
        "\n",
        "\n",
        "\n",
        "\n",
        "\n"
      ],
      "metadata": {
        "id": "e4wggekw-bZH"
      }
    },
    {
      "cell_type": "markdown",
      "source": [
        "\n",
        "\n",
        "## What I hope you'll get out of this lab\n",
        "* The ability to develop functions in Python\n"
      ],
      "metadata": {
        "id": "8SguSOca_AuG"
      }
    },
    {
      "cell_type": "code",
      "source": [],
      "metadata": {
        "id": "OMMu6VJr-bZI"
      },
      "execution_count": 25,
      "outputs": []
    },
    {
      "cell_type": "code",
      "source": [
        "import pandas as pd"
      ],
      "metadata": {
        "trusted": true,
        "id": "VvXxXXnu-bZI"
      },
      "execution_count": 26,
      "outputs": []
    },
    {
      "cell_type": "code",
      "source": [
        "import numpy as np"
      ],
      "metadata": {
        "trusted": true,
        "id": "avOwZNKe-bZI"
      },
      "execution_count": 27,
      "outputs": []
    },
    {
      "cell_type": "code",
      "source": [
        "from datetime import datetime"
      ],
      "metadata": {
        "trusted": true,
        "id": "YEaaQ4_--bZJ"
      },
      "execution_count": 28,
      "outputs": []
    },
    {
      "cell_type": "markdown",
      "source": [
        "## 1. Functions and Variables"
      ],
      "metadata": {
        "id": "g0qTrPXC-bZJ"
      }
    },
    {
      "cell_type": "markdown",
      "source": [
        "\n",
        "### The variables in your function are not connected to the variables outside the function"
      ],
      "metadata": {
        "id": "dC-dAfaz-bZK"
      }
    },
    {
      "cell_type": "code",
      "source": [
        "def cheese_and_crackers(cheese_count, boxes_of_crackers):\n",
        "  print(f\"You have {cheese_count} cheeses!\")\n",
        "  print(f\"You have {boxes_of_crackers} boxes of crackers!\")\n",
        "  print(\"Man that's enough for a party!\")\n",
        "  print(\"Get a blanket.\\n\")"
      ],
      "metadata": {
        "trusted": true,
        "id": "KdcpqiZ1-bZQ"
      },
      "execution_count": 29,
      "outputs": []
    },
    {
      "cell_type": "code",
      "source": [
        "print(\"We can just give the function numbers directly:\")\n",
        "cheese_and_crackers(20, 30)"
      ],
      "metadata": {
        "trusted": true,
        "id": "Xsv6CcOa-bZQ",
        "outputId": "4c2c9daf-69bd-48e8-8bdc-0e12776d1c8e",
        "colab": {
          "base_uri": "https://localhost:8080/"
        }
      },
      "execution_count": 30,
      "outputs": [
        {
          "output_type": "stream",
          "name": "stdout",
          "text": [
            "We can just give the function numbers directly:\n",
            "You have 20 cheeses!\n",
            "You have 30 boxes of crackers!\n",
            "Man that's enough for a party!\n",
            "Get a blanket.\n",
            "\n"
          ]
        }
      ]
    },
    {
      "cell_type": "code",
      "source": [
        "print(\"OR, we can use variables from our script:\")\n",
        "amount_of_cheese = 10\n",
        "amount_of_crackers = 50"
      ],
      "metadata": {
        "colab": {
          "base_uri": "https://localhost:8080/"
        },
        "id": "YQ5cEleZScRr",
        "outputId": "f5dc2e8e-9aae-4211-b881-5e09302b13a7"
      },
      "execution_count": 31,
      "outputs": [
        {
          "output_type": "stream",
          "name": "stdout",
          "text": [
            "OR, we can use variables from our script:\n"
          ]
        }
      ]
    },
    {
      "cell_type": "code",
      "source": [
        "cheese_and_crackers(amount_of_cheese, amount_of_crackers)"
      ],
      "metadata": {
        "colab": {
          "base_uri": "https://localhost:8080/"
        },
        "id": "tsC8YMxVScPd",
        "outputId": "c4ed5062-e61f-4683-96dc-4bd7d6c74329"
      },
      "execution_count": 32,
      "outputs": [
        {
          "output_type": "stream",
          "name": "stdout",
          "text": [
            "You have 10 cheeses!\n",
            "You have 50 boxes of crackers!\n",
            "Man that's enough for a party!\n",
            "Get a blanket.\n",
            "\n"
          ]
        }
      ]
    },
    {
      "cell_type": "code",
      "source": [
        "print(\"We can even do math inside too:\")\n",
        "cheese_and_crackers(10 + 20, 5 + 6)"
      ],
      "metadata": {
        "colab": {
          "base_uri": "https://localhost:8080/"
        },
        "id": "jkq_xeQDScMg",
        "outputId": "dc8deaca-272c-47a9-99ce-6e8d7ecf59b5"
      },
      "execution_count": 33,
      "outputs": [
        {
          "output_type": "stream",
          "name": "stdout",
          "text": [
            "We can even do math inside too:\n",
            "You have 30 cheeses!\n",
            "You have 11 boxes of crackers!\n",
            "Man that's enough for a party!\n",
            "Get a blanket.\n",
            "\n"
          ]
        }
      ]
    },
    {
      "cell_type": "code",
      "source": [
        "print(\"And we can combine the two, variables and math:\")\n",
        "cheese_and_crackers(amount_of_cheese + 100, amount_of_crackers + 1000)"
      ],
      "metadata": {
        "colab": {
          "base_uri": "https://localhost:8080/"
        },
        "id": "_LUEav01ScKJ",
        "outputId": "7177dcaa-1709-45f1-9bb3-d48f4304d8f9"
      },
      "execution_count": 34,
      "outputs": [
        {
          "output_type": "stream",
          "name": "stdout",
          "text": [
            "And we can combine the two, variables and math:\n",
            "You have 110 cheeses!\n",
            "You have 1050 boxes of crackers!\n",
            "Man that's enough for a party!\n",
            "Get a blanket.\n",
            "\n"
          ]
        }
      ]
    },
    {
      "cell_type": "markdown",
      "source": [
        "### Moreover variables created inside a function do not exist outside it."
      ],
      "metadata": {
        "id": "OoPcCRVhS-LR"
      }
    },
    {
      "cell_type": "code",
      "source": [
        "def StringProcessing(string_argument):\n",
        "  variable=string_argument.upper()\n",
        "  return variable"
      ],
      "metadata": {
        "id": "F-Klkho0ScHy"
      },
      "execution_count": 35,
      "outputs": []
    },
    {
      "cell_type": "code",
      "source": [
        "StringProcessing(\"Hi there\")"
      ],
      "metadata": {
        "colab": {
          "base_uri": "https://localhost:8080/",
          "height": 36
        },
        "id": "UgW2gbhlScFM",
        "outputId": "dc2b9660-da12-442a-89d5-e99e6f533b12"
      },
      "execution_count": 36,
      "outputs": [
        {
          "output_type": "execute_result",
          "data": {
            "text/plain": [
              "'HI THERE'"
            ],
            "application/vnd.google.colaboratory.intrinsic+json": {
              "type": "string"
            }
          },
          "metadata": {},
          "execution_count": 36
        }
      ]
    },
    {
      "cell_type": "code",
      "source": [
        "### We check that variable does no longer exist outside the StringProcessing function\n",
        "variable"
      ],
      "metadata": {
        "colab": {
          "base_uri": "https://localhost:8080/",
          "height": 183
        },
        "id": "zUrnoTc9ScCl",
        "outputId": "72975549-1b32-49ea-feb2-ae501988999d"
      },
      "execution_count": 37,
      "outputs": [
        {
          "output_type": "error",
          "ename": "NameError",
          "evalue": "ignored",
          "traceback": [
            "\u001b[0;31m---------------------------------------------------------------------------\u001b[0m",
            "\u001b[0;31mNameError\u001b[0m                                 Traceback (most recent call last)",
            "\u001b[0;32m<ipython-input-37-87f600edaf14>\u001b[0m in \u001b[0;36m<module>\u001b[0;34m\u001b[0m\n\u001b[1;32m      1\u001b[0m \u001b[0;31m### We check that variable does no longer exist outside the StringProcessing function\u001b[0m\u001b[0;34m\u001b[0m\u001b[0;34m\u001b[0m\u001b[0;34m\u001b[0m\u001b[0m\n\u001b[0;32m----> 2\u001b[0;31m \u001b[0mvariable\u001b[0m\u001b[0;34m\u001b[0m\u001b[0;34m\u001b[0m\u001b[0m\n\u001b[0m",
            "\u001b[0;31mNameError\u001b[0m: name 'variable' is not defined"
          ]
        }
      ]
    },
    {
      "cell_type": "code",
      "source": [],
      "metadata": {
        "id": "j019zUrpScAe"
      },
      "execution_count": null,
      "outputs": []
    },
    {
      "cell_type": "code",
      "source": [],
      "metadata": {
        "id": "lxRecy_QSb9n"
      },
      "execution_count": null,
      "outputs": []
    },
    {
      "cell_type": "markdown",
      "source": [
        "### Let's define a set of fuctions to process text"
      ],
      "metadata": {
        "id": "lD4_jLSiWWQ7"
      }
    },
    {
      "cell_type": "code",
      "source": [
        "def break_words(stuff):\n",
        "    \"\"\"This function will break up words for us.\"\"\"\n",
        "    words = stuff.split(' ')\n",
        "    return words\n",
        "\n",
        "def sort_words(words):\n",
        "    \"\"\"Sorts the words.\"\"\"\n",
        "    return sorted(words)\n",
        "\n",
        "def print_first_word(words):\n",
        "    \"\"\"Prints the first word after popping it off.\"\"\"\n",
        "    word = words.pop(0)\n",
        "    print(word)\n",
        "\n",
        "def print_last_word(words):\n",
        "    \"\"\"Prints the last word after popping it off.\"\"\"\n",
        "    word = words.pop(-1)\n",
        "    print (word)\n",
        "\n",
        "def sort_sentence(sentence):\n",
        "    \"\"\"Takes in a full sentence and returns the sorted words.\"\"\"\n",
        "    words = break_words(sentence)\n",
        "    return sort_words(words)\n",
        "\n",
        "def print_first_and_last(sentence):\n",
        "    \"\"\"Prints the first and last words of the sentence.\"\"\"\n",
        "    words = break_words(sentence)\n",
        "    print_first_word(words)\n",
        "    print_last_word(words)\n",
        "\n",
        "def print_first_and_last_sorted(sentence):\n",
        "    \"\"\"Sorts the words then prints the first and last one.\"\"\"\n",
        "    words = sort_sentence(sentence)\n",
        "    print_first_word(words)\n",
        "    print_last_word(words)"
      ],
      "metadata": {
        "id": "S8_1qsCCSb7T"
      },
      "execution_count": null,
      "outputs": []
    },
    {
      "cell_type": "code",
      "source": [
        "sentence = \"All good things come to those who wait.\""
      ],
      "metadata": {
        "id": "wFL9ukj2Vbij"
      },
      "execution_count": null,
      "outputs": []
    },
    {
      "cell_type": "code",
      "source": [
        "words = break_words(sentence)\n",
        "words"
      ],
      "metadata": {
        "id": "fV0KMtR2Vbgg"
      },
      "execution_count": null,
      "outputs": []
    },
    {
      "cell_type": "code",
      "source": [
        "sorted_words = sort_words(words)\n",
        "sorted_words"
      ],
      "metadata": {
        "id": "A00F68YzVbd4"
      },
      "execution_count": null,
      "outputs": []
    },
    {
      "cell_type": "code",
      "source": [
        "print_first_word(words)\n",
        "print_last_word(words)\n"
      ],
      "metadata": {
        "id": "KPe4LocxVbbR"
      },
      "execution_count": null,
      "outputs": []
    },
    {
      "cell_type": "code",
      "source": [
        "print_first_word(sorted_words)\n",
        "print_last_word(sorted_words)\n"
      ],
      "metadata": {
        "id": "fyHiyAbvVbYp"
      },
      "execution_count": null,
      "outputs": []
    },
    {
      "cell_type": "code",
      "source": [
        "sorted_words = sort_sentence(sentence)\n",
        "print(sorted_words)\n",
        "\n"
      ],
      "metadata": {
        "id": "lREd4dpmVbV0"
      },
      "execution_count": null,
      "outputs": []
    },
    {
      "cell_type": "code",
      "source": [
        "print_first_and_last(sentence)\n",
        "\n",
        "print_first_and_last_sorted(sentence)"
      ],
      "metadata": {
        "trusted": true,
        "id": "kjdeQ55S-bZR"
      },
      "execution_count": null,
      "outputs": []
    },
    {
      "cell_type": "code",
      "source": [],
      "metadata": {
        "id": "_RtXkudFXQ6a"
      },
      "execution_count": null,
      "outputs": []
    },
    {
      "cell_type": "code",
      "source": [],
      "metadata": {
        "id": "Socaptl--bZa"
      },
      "execution_count": null,
      "outputs": []
    },
    {
      "cell_type": "code",
      "source": [],
      "metadata": {
        "id": "6ftFAgEE-bZa"
      },
      "execution_count": null,
      "outputs": []
    }
  ]
}